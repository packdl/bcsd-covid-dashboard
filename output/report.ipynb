{
 "cells": [
  {
   "cell_type": "markdown",
   "metadata": {},
   "source": [
    "# BCSD Infographic notebook\n",
    "This notebook provides various processing and infographics on COVID dashboard reporting for Berkeley County School District"
   ]
  },
  {
   "cell_type": "markdown",
   "metadata": {},
   "source": [
    "## Data imported and added to dataframe"
   ]
  },
  {
   "cell_type": "code",
   "execution_count": 1,
   "metadata": {
    "execution": {
     "iopub.execute_input": "2021-09-08T01:08:59.246946Z",
     "iopub.status.busy": "2021-09-08T01:08:59.246192Z",
     "iopub.status.idle": "2021-09-08T01:09:03.044570Z",
     "shell.execute_reply": "2021-09-08T01:09:03.043468Z"
    }
   },
   "outputs": [],
   "source": [
    "\n",
    "import csv\n",
    "import pprint as pp\n",
    "from datetime import datetime, date, time\n",
    "\n",
    "import pandas as pd\n",
    "import numpy as np\n",
    "import matplotlib\n",
    "import matplotlib.pyplot as plt\n",
    "import matplotlib.dates as mdates\n",
    "import ipywidgets as my_widgets\n",
    "\n",
    "with open('./output/data.csv', 'r') as fp:\n",
    "    df = pd.read_csv(fp, parse_dates=['Date','DateTime'], infer_datetime_format=True)\n",
    "\n",
    "    # Drop any duplicate data entries\n",
    "    cleaned_df = df.replace('Mt Holly Elementary', 'Mount Holly Elementary')\n",
    "    cleaned_df = cleaned_df.drop_duplicates(['School','Date'], keep='last')\n",
    "    "
   ]
  },
  {
   "cell_type": "markdown",
   "metadata": {},
   "source": [
    "## List all schools and areas the district is tracking"
   ]
  },
  {
   "cell_type": "code",
   "execution_count": 2,
   "metadata": {
    "execution": {
     "iopub.execute_input": "2021-09-08T01:09:03.051958Z",
     "iopub.status.busy": "2021-09-08T01:09:03.049850Z",
     "iopub.status.idle": "2021-09-08T01:09:03.065130Z",
     "shell.execute_reply": "2021-09-08T01:09:03.065757Z"
    }
   },
   "outputs": [
    {
     "name": "stdout",
     "output_type": "stream",
     "text": [
      "The school district is tracking 84 schools, offices or departments.\n",
      "Here is the full list.\n",
      "['Berkeley County School District', 'Mount Holly Elementary', 'Academic Services', 'Administrative Services',\n",
      " 'Adult Education - Hanahan', 'Adult Education - Moncks Corner', 'Berkeley Alternative', 'Berkeley Elementary',\n",
      " 'Berkeley High School', 'Berkeley Intermediate', 'Berkeley Middle', 'Berkeley Middle College', 'Board of Education',\n",
      " 'Bonner Elementary', 'Boulder Bluff Elementary', 'Bowens Corner Elementary', 'Cainhoy Elementary',\n",
      " 'Cane Bay Elementary', 'Cane Bay High', 'Cane Bay Middle', 'Capital Improvements', 'Career Technical Ed', 'CDEP',\n",
      " 'Child Nutrition', 'College Park Elementary', 'College Park Middle', 'Communications / Public Relations',\n",
      " 'Cross Elementary', 'Cross High', 'Daniel Island School', 'Dist Office Transportation', 'Evaluation & Leadership',\n",
      " 'Financial Services', 'First Steps', 'Foxbank Elementary', 'Goose Creek Elementary', 'Goose Creek High',\n",
      " 'Hanahan Elementary', 'Hanahan High', 'Hanahan Middle', 'Head Start', 'Howe Hall Aims', 'Human Resources',\n",
      " 'JK Goudin Elementary', 'Lowcountry Regional Stem', 'Macedonia Middle', 'Maintenance', 'Marrington Elementary',\n",
      " 'Marrington Middle', 'Nexton Elementary', 'Office of Diversity', 'Operations / Administration',\n",
      " 'Philip Simmons Elementary', 'Philip Simmons High', 'Philip Simmons Middle', 'Program Support', 'Safety and Security',\n",
      " 'Sangaree Elementary', 'Sangaree Intermediate', 'Sangaree Middle', 'Sedgefield Middle', 'Special Needs Transportation',\n",
      " 'Special Services', 'St. Stephen Elementary', 'St. Stephen Middle', 'Stratford High', 'Teacher Forum', 'Technology',\n",
      " 'Timberland High', 'Transportation - Cainhoy', 'Transportation - Cross', 'Transportation - Goose Creek',\n",
      " 'Transportation - Moncks Corner', 'Transportation - St. Stephen', 'Westview Elementary', 'Westview Middle',\n",
      " 'Westview Primary', 'Whitesville Elementary', 'Devon Forest Elementary', 'Central Offices', 'Transportation',\n",
      " 'Jk Goudin Elementary', 'St Stephen Elementary', 'St Stephen Middle']\n"
     ]
    }
   ],
   "source": [
    "print(f\"The school district is tracking {len(cleaned_df.School.unique())} schools, offices or departments.\")\n",
    "print(f\"Here is the full list.\")\n",
    "pp.pprint(list(cleaned_df.School.unique()), compact=True, width=120)"
   ]
  },
  {
   "cell_type": "markdown",
   "metadata": {},
   "source": [
    "## Top 5 Highest Schools Today"
   ]
  },
  {
   "cell_type": "markdown",
   "metadata": {},
   "source": [
    "###  By Student Count"
   ]
  },
  {
   "cell_type": "code",
   "execution_count": 3,
   "metadata": {
    "execution": {
     "iopub.execute_input": "2021-09-08T01:09:03.076325Z",
     "iopub.status.busy": "2021-09-08T01:09:03.071409Z",
     "iopub.status.idle": "2021-09-08T01:09:03.090952Z",
     "shell.execute_reply": "2021-09-08T01:09:03.091495Z"
    }
   },
   "outputs": [
    {
     "name": "stdout",
     "output_type": "stream",
     "text": [
      "Data is not available for today: 2021-09-08\n",
      "Most recent date with data is 2021-09-07\n"
     ]
    },
    {
     "data": {
      "text/html": [
       "<div>\n",
       "<style scoped>\n",
       "    .dataframe tbody tr th:only-of-type {\n",
       "        vertical-align: middle;\n",
       "    }\n",
       "\n",
       "    .dataframe tbody tr th {\n",
       "        vertical-align: top;\n",
       "    }\n",
       "\n",
       "    .dataframe thead th {\n",
       "        text-align: right;\n",
       "    }\n",
       "</style>\n",
       "<table border=\"1\" class=\"dataframe\">\n",
       "  <thead>\n",
       "    <tr style=\"text-align: right;\">\n",
       "      <th></th>\n",
       "      <th>School</th>\n",
       "      <th>Area</th>\n",
       "      <th>Date</th>\n",
       "      <th>Staff Count</th>\n",
       "      <th>Student Count</th>\n",
       "      <th>DateTime</th>\n",
       "    </tr>\n",
       "  </thead>\n",
       "  <tbody>\n",
       "    <tr>\n",
       "      <th>605</th>\n",
       "      <td>Cane Bay Middle</td>\n",
       "      <td>Summerville</td>\n",
       "      <td>2021-09-07</td>\n",
       "      <td>3</td>\n",
       "      <td>77</td>\n",
       "      <td>2021-09-07 03:40:47</td>\n",
       "    </tr>\n",
       "    <tr>\n",
       "      <th>597</th>\n",
       "      <td>Berkeley Middle</td>\n",
       "      <td>Moncks Corner</td>\n",
       "      <td>2021-09-07</td>\n",
       "      <td>7</td>\n",
       "      <td>67</td>\n",
       "      <td>2021-09-07 03:40:47</td>\n",
       "    </tr>\n",
       "    <tr>\n",
       "      <th>634</th>\n",
       "      <td>Stratford High</td>\n",
       "      <td>Goose Creek</td>\n",
       "      <td>2021-09-07</td>\n",
       "      <td>3</td>\n",
       "      <td>49</td>\n",
       "      <td>2021-09-07 03:40:47</td>\n",
       "    </tr>\n",
       "    <tr>\n",
       "      <th>639</th>\n",
       "      <td>Whitesville Elementary</td>\n",
       "      <td>Moncks Corner</td>\n",
       "      <td>2021-09-07</td>\n",
       "      <td>5</td>\n",
       "      <td>40</td>\n",
       "      <td>2021-09-07 03:40:47</td>\n",
       "    </tr>\n",
       "    <tr>\n",
       "      <th>628</th>\n",
       "      <td>Sangaree Elementary</td>\n",
       "      <td>Summerville</td>\n",
       "      <td>2021-09-07</td>\n",
       "      <td>5</td>\n",
       "      <td>39</td>\n",
       "      <td>2021-09-07 03:40:47</td>\n",
       "    </tr>\n",
       "  </tbody>\n",
       "</table>\n",
       "</div>"
      ],
      "text/plain": [
       "                     School           Area       Date  Staff Count  \\\n",
       "605         Cane Bay Middle    Summerville 2021-09-07            3   \n",
       "597         Berkeley Middle  Moncks Corner 2021-09-07            7   \n",
       "634          Stratford High    Goose Creek 2021-09-07            3   \n",
       "639  Whitesville Elementary  Moncks Corner 2021-09-07            5   \n",
       "628     Sangaree Elementary    Summerville 2021-09-07            5   \n",
       "\n",
       "     Student Count            DateTime  \n",
       "605             77 2021-09-07 03:40:47  \n",
       "597             67 2021-09-07 03:40:47  \n",
       "634             49 2021-09-07 03:40:47  \n",
       "639             40 2021-09-07 03:40:47  \n",
       "628             39 2021-09-07 03:40:47  "
      ]
     },
     "execution_count": 3,
     "metadata": {},
     "output_type": "execute_result"
    }
   ],
   "source": [
    "most_recent_date = cleaned_df.Date.max().date()\n",
    "if most_recent_date != date.today():\n",
    "    print(f\"Data is not available for today: {date.today()}\")\n",
    "    print(f\"Most recent date with data is {most_recent_date}\")\n",
    "cases_today = cleaned_df[cleaned_df.Date >= datetime.combine(most_recent_date,time())]\n",
    "highest_student_cnt = cases_today.sort_values(by=[\"Student Count\"], ascending=False)\n",
    "highest_student_cnt[highest_student_cnt.School!='Berkeley County School District'].head()"
   ]
  },
  {
   "cell_type": "markdown",
   "metadata": {},
   "source": [
    "### By Staff Count"
   ]
  },
  {
   "cell_type": "code",
   "execution_count": 4,
   "metadata": {
    "execution": {
     "iopub.execute_input": "2021-09-08T01:09:03.104836Z",
     "iopub.status.busy": "2021-09-08T01:09:03.104212Z",
     "iopub.status.idle": "2021-09-08T01:09:03.108639Z",
     "shell.execute_reply": "2021-09-08T01:09:03.107568Z"
    }
   },
   "outputs": [
    {
     "data": {
      "text/html": [
       "<div>\n",
       "<style scoped>\n",
       "    .dataframe tbody tr th:only-of-type {\n",
       "        vertical-align: middle;\n",
       "    }\n",
       "\n",
       "    .dataframe tbody tr th {\n",
       "        vertical-align: top;\n",
       "    }\n",
       "\n",
       "    .dataframe thead th {\n",
       "        text-align: right;\n",
       "    }\n",
       "</style>\n",
       "<table border=\"1\" class=\"dataframe\">\n",
       "  <thead>\n",
       "    <tr style=\"text-align: right;\">\n",
       "      <th></th>\n",
       "      <th>School</th>\n",
       "      <th>Area</th>\n",
       "      <th>Date</th>\n",
       "      <th>Staff Count</th>\n",
       "      <th>Student Count</th>\n",
       "      <th>DateTime</th>\n",
       "    </tr>\n",
       "  </thead>\n",
       "  <tbody>\n",
       "    <tr>\n",
       "      <th>597</th>\n",
       "      <td>Berkeley Middle</td>\n",
       "      <td>Moncks Corner</td>\n",
       "      <td>2021-09-07</td>\n",
       "      <td>7</td>\n",
       "      <td>67</td>\n",
       "      <td>2021-09-07 03:40:47</td>\n",
       "    </tr>\n",
       "    <tr>\n",
       "      <th>596</th>\n",
       "      <td>Berkeley Intermediate</td>\n",
       "      <td>Moncks Corner</td>\n",
       "      <td>2021-09-07</td>\n",
       "      <td>5</td>\n",
       "      <td>29</td>\n",
       "      <td>2021-09-07 03:40:47</td>\n",
       "    </tr>\n",
       "    <tr>\n",
       "      <th>628</th>\n",
       "      <td>Sangaree Elementary</td>\n",
       "      <td>Summerville</td>\n",
       "      <td>2021-09-07</td>\n",
       "      <td>5</td>\n",
       "      <td>39</td>\n",
       "      <td>2021-09-07 03:40:47</td>\n",
       "    </tr>\n",
       "    <tr>\n",
       "      <th>639</th>\n",
       "      <td>Whitesville Elementary</td>\n",
       "      <td>Moncks Corner</td>\n",
       "      <td>2021-09-07</td>\n",
       "      <td>5</td>\n",
       "      <td>40</td>\n",
       "      <td>2021-09-07 03:40:47</td>\n",
       "    </tr>\n",
       "    <tr>\n",
       "      <th>595</th>\n",
       "      <td>Berkeley High School</td>\n",
       "      <td>Moncks Corner</td>\n",
       "      <td>2021-09-07</td>\n",
       "      <td>4</td>\n",
       "      <td>19</td>\n",
       "      <td>2021-09-07 03:40:47</td>\n",
       "    </tr>\n",
       "  </tbody>\n",
       "</table>\n",
       "</div>"
      ],
      "text/plain": [
       "                     School           Area       Date  Staff Count  \\\n",
       "597         Berkeley Middle  Moncks Corner 2021-09-07            7   \n",
       "596   Berkeley Intermediate  Moncks Corner 2021-09-07            5   \n",
       "628     Sangaree Elementary    Summerville 2021-09-07            5   \n",
       "639  Whitesville Elementary  Moncks Corner 2021-09-07            5   \n",
       "595    Berkeley High School  Moncks Corner 2021-09-07            4   \n",
       "\n",
       "     Student Count            DateTime  \n",
       "597             67 2021-09-07 03:40:47  \n",
       "596             29 2021-09-07 03:40:47  \n",
       "628             39 2021-09-07 03:40:47  \n",
       "639             40 2021-09-07 03:40:47  \n",
       "595             19 2021-09-07 03:40:47  "
      ]
     },
     "execution_count": 4,
     "metadata": {},
     "output_type": "execute_result"
    }
   ],
   "source": [
    "highest_staff_cnt = cases_today.sort_values(by=[\"Staff Count\"], ascending=False)\n",
    "highest_staff_cnt[highest_staff_cnt.School!='Berkeley County School District'].head()"
   ]
  },
  {
   "cell_type": "markdown",
   "metadata": {},
   "source": [
    "## Top 5 Highest Schools All Time"
   ]
  },
  {
   "cell_type": "markdown",
   "metadata": {},
   "source": [
    "###  By Student Count"
   ]
  },
  {
   "cell_type": "code",
   "execution_count": 5,
   "metadata": {
    "execution": {
     "iopub.execute_input": "2021-09-08T01:09:03.114124Z",
     "iopub.status.busy": "2021-09-08T01:09:03.112923Z",
     "iopub.status.idle": "2021-09-08T01:09:03.128995Z",
     "shell.execute_reply": "2021-09-08T01:09:03.128464Z"
    }
   },
   "outputs": [
    {
     "data": {
      "text/html": [
       "<div>\n",
       "<style scoped>\n",
       "    .dataframe tbody tr th:only-of-type {\n",
       "        vertical-align: middle;\n",
       "    }\n",
       "\n",
       "    .dataframe tbody tr th {\n",
       "        vertical-align: top;\n",
       "    }\n",
       "\n",
       "    .dataframe thead th {\n",
       "        text-align: right;\n",
       "    }\n",
       "</style>\n",
       "<table border=\"1\" class=\"dataframe\">\n",
       "  <thead>\n",
       "    <tr style=\"text-align: right;\">\n",
       "      <th></th>\n",
       "      <th>School</th>\n",
       "      <th>Area</th>\n",
       "      <th>Date</th>\n",
       "      <th>Staff Count</th>\n",
       "      <th>Student Count</th>\n",
       "      <th>DateTime</th>\n",
       "    </tr>\n",
       "  </thead>\n",
       "  <tbody>\n",
       "    <tr>\n",
       "      <th>582</th>\n",
       "      <td>Stratford High</td>\n",
       "      <td>Goose Creek</td>\n",
       "      <td>2021-09-03</td>\n",
       "      <td>6</td>\n",
       "      <td>116</td>\n",
       "      <td>2021-09-03 04:35:34</td>\n",
       "    </tr>\n",
       "    <tr>\n",
       "      <th>545</th>\n",
       "      <td>Berkeley Middle</td>\n",
       "      <td>Moncks Corner</td>\n",
       "      <td>2021-09-03</td>\n",
       "      <td>7</td>\n",
       "      <td>104</td>\n",
       "      <td>2021-09-03 04:35:34</td>\n",
       "    </tr>\n",
       "    <tr>\n",
       "      <th>553</th>\n",
       "      <td>Cane Bay Middle</td>\n",
       "      <td>Summerville</td>\n",
       "      <td>2021-09-03</td>\n",
       "      <td>2</td>\n",
       "      <td>88</td>\n",
       "      <td>2021-09-03 04:35:34</td>\n",
       "    </tr>\n",
       "    <tr>\n",
       "      <th>439</th>\n",
       "      <td>Berkeley High School</td>\n",
       "      <td>Moncks Corner</td>\n",
       "      <td>2021-09-01</td>\n",
       "      <td>2</td>\n",
       "      <td>78</td>\n",
       "      <td>2021-09-01 03:27:59</td>\n",
       "    </tr>\n",
       "    <tr>\n",
       "      <th>500</th>\n",
       "      <td>Cane Bay High</td>\n",
       "      <td>Summerville</td>\n",
       "      <td>2021-09-02</td>\n",
       "      <td>4</td>\n",
       "      <td>77</td>\n",
       "      <td>2021-09-02 03:50:34</td>\n",
       "    </tr>\n",
       "  </tbody>\n",
       "</table>\n",
       "</div>"
      ],
      "text/plain": [
       "                   School           Area       Date  Staff Count  \\\n",
       "582        Stratford High    Goose Creek 2021-09-03            6   \n",
       "545       Berkeley Middle  Moncks Corner 2021-09-03            7   \n",
       "553       Cane Bay Middle    Summerville 2021-09-03            2   \n",
       "439  Berkeley High School  Moncks Corner 2021-09-01            2   \n",
       "500         Cane Bay High    Summerville 2021-09-02            4   \n",
       "\n",
       "     Student Count            DateTime  \n",
       "582            116 2021-09-03 04:35:34  \n",
       "545            104 2021-09-03 04:35:34  \n",
       "553             88 2021-09-03 04:35:34  \n",
       "439             78 2021-09-01 03:27:59  \n",
       "500             77 2021-09-02 03:50:34  "
      ]
     },
     "execution_count": 5,
     "metadata": {},
     "output_type": "execute_result"
    }
   ],
   "source": [
    "all_time_students = cleaned_df.sort_values(by=[\"Student Count\",\"School\"], ascending=False).drop_duplicates([\"School\"], keep='first')\n",
    "all_time_students[all_time_students.School!='Berkeley County School District'].head()"
   ]
  },
  {
   "cell_type": "markdown",
   "metadata": {},
   "source": [
    "### By Staff Count"
   ]
  },
  {
   "cell_type": "code",
   "execution_count": 6,
   "metadata": {
    "execution": {
     "iopub.execute_input": "2021-09-08T01:09:03.134641Z",
     "iopub.status.busy": "2021-09-08T01:09:03.134042Z",
     "iopub.status.idle": "2021-09-08T01:09:03.148952Z",
     "shell.execute_reply": "2021-09-08T01:09:03.148415Z"
    }
   },
   "outputs": [
    {
     "data": {
      "text/html": [
       "<div>\n",
       "<style scoped>\n",
       "    .dataframe tbody tr th:only-of-type {\n",
       "        vertical-align: middle;\n",
       "    }\n",
       "\n",
       "    .dataframe tbody tr th {\n",
       "        vertical-align: top;\n",
       "    }\n",
       "\n",
       "    .dataframe thead th {\n",
       "        text-align: right;\n",
       "    }\n",
       "</style>\n",
       "<table border=\"1\" class=\"dataframe\">\n",
       "  <thead>\n",
       "    <tr style=\"text-align: right;\">\n",
       "      <th></th>\n",
       "      <th>School</th>\n",
       "      <th>Area</th>\n",
       "      <th>Date</th>\n",
       "      <th>Staff Count</th>\n",
       "      <th>Student Count</th>\n",
       "      <th>DateTime</th>\n",
       "    </tr>\n",
       "  </thead>\n",
       "  <tbody>\n",
       "    <tr>\n",
       "      <th>577</th>\n",
       "      <td>Sangaree Elementary</td>\n",
       "      <td>Summerville</td>\n",
       "      <td>2021-09-03</td>\n",
       "      <td>10</td>\n",
       "      <td>48</td>\n",
       "      <td>2021-09-03 04:35:34</td>\n",
       "    </tr>\n",
       "    <tr>\n",
       "      <th>29</th>\n",
       "      <td>Cane Bay High</td>\n",
       "      <td>Summerville</td>\n",
       "      <td>2021-08-24</td>\n",
       "      <td>8</td>\n",
       "      <td>43</td>\n",
       "      <td>2021-08-24 08:59:02</td>\n",
       "    </tr>\n",
       "    <tr>\n",
       "      <th>490</th>\n",
       "      <td>Berkeley Elementary</td>\n",
       "      <td>Moncks Corner</td>\n",
       "      <td>2021-09-02</td>\n",
       "      <td>8</td>\n",
       "      <td>32</td>\n",
       "      <td>2021-09-02 03:50:34</td>\n",
       "    </tr>\n",
       "    <tr>\n",
       "      <th>587</th>\n",
       "      <td>Whitesville Elementary</td>\n",
       "      <td>Moncks Corner</td>\n",
       "      <td>2021-09-03</td>\n",
       "      <td>7</td>\n",
       "      <td>49</td>\n",
       "      <td>2021-09-03 04:35:34</td>\n",
       "    </tr>\n",
       "    <tr>\n",
       "      <th>391</th>\n",
       "      <td>Bonner Elementary</td>\n",
       "      <td>Moncks Corner</td>\n",
       "      <td>2021-08-31</td>\n",
       "      <td>7</td>\n",
       "      <td>35</td>\n",
       "      <td>2021-08-31 06:03:52</td>\n",
       "    </tr>\n",
       "  </tbody>\n",
       "</table>\n",
       "</div>"
      ],
      "text/plain": [
       "                     School           Area       Date  Staff Count  \\\n",
       "577     Sangaree Elementary    Summerville 2021-09-03           10   \n",
       "29            Cane Bay High    Summerville 2021-08-24            8   \n",
       "490     Berkeley Elementary  Moncks Corner 2021-09-02            8   \n",
       "587  Whitesville Elementary  Moncks Corner 2021-09-03            7   \n",
       "391       Bonner Elementary  Moncks Corner 2021-08-31            7   \n",
       "\n",
       "     Student Count            DateTime  \n",
       "577             48 2021-09-03 04:35:34  \n",
       "29              43 2021-08-24 08:59:02  \n",
       "490             32 2021-09-02 03:50:34  \n",
       "587             49 2021-09-03 04:35:34  \n",
       "391             35 2021-08-31 06:03:52  "
      ]
     },
     "execution_count": 6,
     "metadata": {},
     "output_type": "execute_result"
    }
   ],
   "source": [
    "all_time_students = cleaned_df.sort_values(by=[\"Staff Count\",\"School\"], ascending=False).drop_duplicates([\"School\"], keep='first')\n",
    "all_time_students[all_time_students.School!='Berkeley County School District'].head()"
   ]
  },
  {
   "cell_type": "code",
   "execution_count": 7,
   "metadata": {
    "execution": {
     "iopub.execute_input": "2021-09-08T01:09:03.156579Z",
     "iopub.status.busy": "2021-09-08T01:09:03.155800Z",
     "iopub.status.idle": "2021-09-08T01:09:03.160327Z",
     "shell.execute_reply": "2021-09-08T01:09:03.159776Z"
    }
   },
   "outputs": [],
   "source": [
    "def print_recent_daily_difference(given_school):\n",
    "    #current_district_cnts = given_school[given_school.Date.apply(datetime.date) == most_recent_date].tail(1)\n",
    "    maximum_date = given_school.Date.max().date()\n",
    "    current_district_cnts = given_school[given_school.Date.apply(datetime.date) == maximum_date].tail(1)\n",
    "    curr_district_staff_cnt = current_district_cnts[\"Staff Count\"].iat[0]\n",
    "    curr_district_student_cnt = current_district_cnts[\"Student Count\"].iat[0]\n",
    "       \n",
    "    previous_date = given_school[given_school.Date.apply(datetime.date) != maximum_date].Date.max()\n",
    "\n",
    "    previous_day_district = given_school[given_school.Date == previous_date]\n",
    "    previous_district_staff_cnt = previous_day_district[\"Staff Count\"].iat[0]\n",
    "    previous_district_student_cnt = previous_day_district[\"Student Count\"].iat[0]\n",
    "\n",
    "    print(f\"On {maximum_date} Student Count: {curr_district_student_cnt}. Staff Count: {curr_district_staff_cnt}\")\n",
    "    print(f\"On {previous_date.date()} Student Count: {previous_district_student_cnt}. Staff Count: {previous_district_staff_cnt}\")\n",
    "    print(f\"Difference between {maximum_date} and {previous_date.date()}. Student Count: {curr_district_student_cnt-previous_district_student_cnt}. Staff Count: {curr_district_staff_cnt-previous_district_staff_cnt}\")"
   ]
  },
  {
   "cell_type": "markdown",
   "metadata": {},
   "source": [
    "## Graphs"
   ]
  },
  {
   "cell_type": "markdown",
   "metadata": {},
   "source": [
    "### BCSD - 14 Day Cumulative reported daily"
   ]
  },
  {
   "cell_type": "code",
   "execution_count": 8,
   "metadata": {
    "execution": {
     "iopub.execute_input": "2021-09-08T01:09:03.170211Z",
     "iopub.status.busy": "2021-09-08T01:09:03.169616Z",
     "iopub.status.idle": "2021-09-08T01:09:03.500257Z",
     "shell.execute_reply": "2021-09-08T01:09:03.499671Z"
    }
   },
   "outputs": [
    {
     "name": "stdout",
     "output_type": "stream",
     "text": [
      "On 2021-09-07 Student Count: 886. Staff Count: 76\n",
      "On 2021-09-03 Student Count: 1588. Staff Count: 135\n",
      "Difference between 2021-09-07 and 2021-09-03. Student Count: -702. Staff Count: -59\n"
     ]
    },
    {
     "data": {
      "text/plain": [
       "[]"
      ]
     },
     "execution_count": 8,
     "metadata": {},
     "output_type": "execute_result"
    },
    {
     "data": {
      "image/png": "[encoded data removed]",
      "text/plain": [
       "<Figure size 432x288 with 1 Axes>"
      ]
     },
     "metadata": {
      "needs_background": "light"
     },
     "output_type": "display_data"
    }
   ],
   "source": [
    "district = cleaned_df[cleaned_df.School=='Berkeley County School District']\n",
    "\n",
    "print_recent_daily_difference(district)\n",
    "    \n",
    "bcsd_ax = district.plot(\"Date\",[\"Student Count\", \"Staff Count\"], kind='area', ylabel='Count', title=\"14 Day Cumulative by Day for BCSD\")\n",
    "bcsd_ax.plot()"
   ]
  },
  {
   "cell_type": "markdown",
   "metadata": {},
   "source": [
    "### Mount Holly Elementary"
   ]
  },
  {
   "cell_type": "code",
   "execution_count": 9,
   "metadata": {
    "execution": {
     "iopub.execute_input": "2021-09-08T01:09:03.507186Z",
     "iopub.status.busy": "2021-09-08T01:09:03.506556Z",
     "iopub.status.idle": "2021-09-08T01:09:03.743440Z",
     "shell.execute_reply": "2021-09-08T01:09:03.742927Z"
    }
   },
   "outputs": [
    {
     "name": "stdout",
     "output_type": "stream",
     "text": [
      "On 2021-09-07 Student Count: 30. Staff Count: 2\n",
      "On 2021-09-03 Student Count: 48. Staff Count: 6\n",
      "Difference between 2021-09-07 and 2021-09-03. Student Count: -18. Staff Count: -4\n"
     ]
    },
    {
     "data": {
      "text/plain": [
       "[]"
      ]
     },
     "execution_count": 9,
     "metadata": {},
     "output_type": "execute_result"
    },
    {
     "data": {
      "image/png": "[encoded data removed]",
      "text/plain": [
       "<Figure size 432x288 with 1 Axes>"
      ]
     },
     "metadata": {
      "needs_background": "light"
     },
     "output_type": "display_data"
    }
   ],
   "source": [
    "district = cleaned_df[cleaned_df.School=='Mount Holly Elementary']\n",
    "print_recent_daily_difference(district)\n",
    "mhe_ax = district.plot(\"Date\",[\"Student Count\", \"Staff Count\"], kind='area', ylabel='Count', title=\"14 Day Cumulative by Day for Mount Holly Elementary\")\n",
    "mhe_ax.plot()"
   ]
  },
  {
   "cell_type": "markdown",
   "metadata": {},
   "source": [
    "### Bonner Elementary"
   ]
  },
  {
   "cell_type": "code",
   "execution_count": 10,
   "metadata": {
    "execution": {
     "iopub.execute_input": "2021-09-08T01:09:03.789506Z",
     "iopub.status.busy": "2021-09-08T01:09:03.783754Z",
     "iopub.status.idle": "2021-09-08T01:09:04.005682Z",
     "shell.execute_reply": "2021-09-08T01:09:04.005138Z"
    }
   },
   "outputs": [
    {
     "name": "stdout",
     "output_type": "stream",
     "text": [
      "On 2021-09-07 Student Count: 12. Staff Count: 2\n",
      "On 2021-09-03 Student Count: 38. Staff Count: 7\n",
      "Difference between 2021-09-07 and 2021-09-03. Student Count: -26. Staff Count: -5\n"
     ]
    },
    {
     "data": {
      "text/plain": [
       "[]"
      ]
     },
     "execution_count": 10,
     "metadata": {},
     "output_type": "execute_result"
    },
    {
     "data": {
      "image/png": "[encoded data removed]",
      "text/plain": [
       "<Figure size 432x288 with 1 Axes>"
      ]
     },
     "metadata": {
      "needs_background": "light"
     },
     "output_type": "display_data"
    }
   ],
   "source": [
    "district = cleaned_df[cleaned_df.School=='Bonner Elementary']\n",
    "print_recent_daily_difference(district)\n",
    "bonn_ax = district.plot(\"Date\",[\"Student Count\", \"Staff Count\"], kind='area', ylabel='Count', title=\"14 Day Cumulative by Day for Bonner Elementary\")\n",
    "bonn_ax.plot()"
   ]
  }
 ],
 "metadata": {
  "interpreter": {
   "hash": "3af1a351bc38b8dbaa85d892c47840bee599ebcf59404735617ce8e82a959bc4"
  },
  "kernelspec": {
   "display_name": "Python 3.8.8 64-bit ('.venv': venv)",
   "name": "python3"
  },
  "language_info": {
   "codemirror_mode": {
    "name": "ipython",
    "version": 3
   },
   "file_extension": ".py",
   "mimetype": "text/x-python",
   "name": "python",
   "nbconvert_exporter": "python",
   "pygments_lexer": "ipython3",
   "version": "3.8.11"
  }
 },
 "nbformat": 4,
 "nbformat_minor": 2
}
