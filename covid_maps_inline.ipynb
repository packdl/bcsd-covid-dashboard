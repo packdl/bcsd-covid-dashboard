{
    "cells": [
        {
            "cell_type": "markdown",
            "source": [
                "# BCSD Infographic notebook\n",
                "This notebook provides various processing and infographics on COVID dashboard reporting for Berkeley County School District"
            ],
            "metadata": {}
        },
        {
            "cell_type": "markdown",
            "source": [
                "## Data imported and added to dataframe"
            ],
            "metadata": {}
        },
        {
            "cell_type": "code",
            "execution_count": null,
            "source": [
                "\n",
                "import csv\n",
                "import pprint as pp\n",
                "from datetime import datetime, date, time\n",
                "\n",
                "import pandas as pd\n",
                "import numpy as np\n",
                "import matplotlib\n",
                "import matplotlib.pyplot as plt\n",
                "import matplotlib.dates as mdates\n",
                "import ipywidgets as my_widgets\n",
                "\n",
                "with open('./output/data.csv', 'r') as fp:\n",
                "    df = pd.read_csv(fp, parse_dates=['Date','DateTime'], infer_datetime_format=True)\n",
                "\n",
                "    # Drop any duplicate data entries\n",
                "    cleaned_df = df.replace('Mt Holly Elementary', 'Mount Holly Elementary')\n",
                "    cleaned_df = cleaned_df.drop_duplicates(['School','Date'], keep='last')\n",
                "    "
            ],
            "outputs": [],
            "metadata": {}
        },
        {
            "cell_type": "markdown",
            "source": [
                "## List all schools and areas the district is tracking"
            ],
            "metadata": {}
        },
        {
            "cell_type": "code",
            "execution_count": null,
            "source": [
                "print(f\"The school district is tracking {len(cleaned_df.School.unique())} schools, offices or departments.\")\n",
                "print(f\"Here is the full list.\")\n",
                "pp.pprint(list(cleaned_df.School.unique()), compact=True, width=120)"
            ],
            "outputs": [],
            "metadata": {}
        },
        {
            "cell_type": "markdown",
            "source": [
                "## Top 5 Highest Schools Today"
            ],
            "metadata": {}
        },
        {
            "cell_type": "markdown",
            "source": [
                "###  By Student Count"
            ],
            "metadata": {}
        },
        {
            "cell_type": "code",
            "execution_count": null,
            "source": [
                "most_recent_date = cleaned_df.Date.max().date()\n",
                "if most_recent_date != date.today():\n",
                "    print(f\"Data is not available for today: {date.today()}\")\n",
                "    print(f\"Most recent date with data is {most_recent_date}\")\n",
                "cases_today = cleaned_df[cleaned_df.Date >= datetime.combine(most_recent_date,time())]\n",
                "highest_student_cnt = cases_today.sort_values(by=[\"Student Count\"], ascending=False)\n",
                "highest_student_cnt[highest_student_cnt.School!='Berkeley County School District'].head()"
            ],
            "outputs": [],
            "metadata": {}
        },
        {
            "cell_type": "markdown",
            "source": [
                "### By Staff Count"
            ],
            "metadata": {}
        },
        {
            "cell_type": "code",
            "execution_count": null,
            "source": [
                "highest_staff_cnt = cases_today.sort_values(by=[\"Staff Count\"], ascending=False)\n",
                "highest_staff_cnt[highest_staff_cnt.School!='Berkeley County School District'].head()"
            ],
            "outputs": [],
            "metadata": {}
        },
        {
            "cell_type": "markdown",
            "source": [
                "## Top 5 Highest Schools All Time"
            ],
            "metadata": {}
        },
        {
            "cell_type": "markdown",
            "source": [
                "###  By Student Count"
            ],
            "metadata": {}
        },
        {
            "cell_type": "code",
            "execution_count": null,
            "source": [
                "all_time_students = cleaned_df.sort_values(by=[\"Student Count\",\"School\"], ascending=False).drop_duplicates([\"School\"], keep='first')\n",
                "all_time_students[all_time_students.School!='Berkeley County School District'].head()"
            ],
            "outputs": [],
            "metadata": {}
        },
        {
            "cell_type": "markdown",
            "source": [
                "### By Staff Count"
            ],
            "metadata": {}
        },
        {
            "cell_type": "code",
            "execution_count": null,
            "source": [
                "all_time_students = cleaned_df.sort_values(by=[\"Staff Count\",\"School\"], ascending=False).drop_duplicates([\"School\"], keep='first')\n",
                "all_time_students[all_time_students.School!='Berkeley County School District'].head()"
            ],
            "outputs": [],
            "metadata": {}
        },
        {
            "cell_type": "code",
            "execution_count": null,
            "source": [
                "def print_recent_daily_difference(given_school):\n",
                "    #current_district_cnts = given_school[given_school.Date.apply(datetime.date) == most_recent_date].tail(1)\n",
                "    maximum_date = given_school.Date.max().date()\n",
                "    current_district_cnts = given_school[given_school.Date.apply(datetime.date) == maximum_date].tail(1)\n",
                "    curr_district_staff_cnt = current_district_cnts[\"Staff Count\"].iat[0]\n",
                "    curr_district_student_cnt = current_district_cnts[\"Student Count\"].iat[0]\n",
                "       \n",
                "    previous_date = given_school[given_school.Date.apply(datetime.date) != maximum_date].Date.max()\n",
                "\n",
                "    previous_day_district = given_school[given_school.Date == previous_date]\n",
                "    previous_district_staff_cnt = previous_day_district[\"Staff Count\"].iat[0]\n",
                "    previous_district_student_cnt = previous_day_district[\"Student Count\"].iat[0]\n",
                "\n",
                "    print(f\"On {maximum_date} Student Count: {curr_district_student_cnt}. Staff Count: {curr_district_staff_cnt}\")\n",
                "    print(f\"On {previous_date.date()} Student Count: {previous_district_student_cnt}. Staff Count: {previous_district_staff_cnt}\")\n",
                "    print(f\"Difference between {maximum_date} and {previous_date.date()}. Student Count: {curr_district_student_cnt-previous_district_student_cnt}. Staff Count: {curr_district_staff_cnt-previous_district_staff_cnt}\")"
            ],
            "outputs": [],
            "metadata": {}
        },
        {
            "cell_type": "markdown",
            "source": [
                "## Graphs"
            ],
            "metadata": {}
        },
        {
            "cell_type": "markdown",
            "source": [
                "### BCSD - 14 Day Cumulative reported daily"
            ],
            "metadata": {}
        },
        {
            "cell_type": "code",
            "execution_count": null,
            "source": [
                "district = cleaned_df[cleaned_df.School=='Berkeley County School District']\n",
                "\n",
                "print_recent_daily_difference(district)\n",
                "    \n",
                "bcsd_ax = district.plot(\"Date\",[\"Student Count\", \"Staff Count\"], kind='area', ylabel='Count', title=\"14 Day Cumulative by Day for BCSD\")\n",
                "bcsd_ax.plot()"
            ],
            "outputs": [],
            "metadata": {}
        },
        {
            "cell_type": "markdown",
            "source": [
                "### Mount Holly Elementary"
            ],
            "metadata": {}
        },
        {
            "cell_type": "code",
            "execution_count": null,
            "source": [
                "district = cleaned_df[cleaned_df.School=='Mount Holly Elementary']\n",
                "print_recent_daily_difference(district)\n",
                "mhe_ax = district.plot(\"Date\",[\"Student Count\", \"Staff Count\"], kind='area', ylabel='Count', title=\"14 Day Cumulative by Day for Mount Holly Elementary\")\n",
                "mhe_ax.plot()"
            ],
            "outputs": [],
            "metadata": {}
        },
        {
            "cell_type": "markdown",
            "source": [
                "### Bonner Elementary"
            ],
            "metadata": {}
        },
        {
            "cell_type": "code",
            "execution_count": null,
            "source": [
                "district = cleaned_df[cleaned_df.School=='Bonner Elementary']\n",
                "print_recent_daily_difference(district)\n",
                "bonn_ax = district.plot(\"Date\",[\"Student Count\", \"Staff Count\"], kind='area', ylabel='Count', title=\"14 Day Cumulative by Day for Bonner Elementary\")\n",
                "bonn_ax.plot()"
            ],
            "outputs": [],
            "metadata": {}
        }
    ],
    "metadata": {
        "orig_nbformat": 4,
        "language_info": {
            "name": "python",
            "version": "3.8.8",
            "mimetype": "text/x-python",
            "codemirror_mode": {
                "name": "ipython",
                "version": 3
            },
            "pygments_lexer": "ipython3",
            "nbconvert_exporter": "python",
            "file_extension": ".py"
        },
        "kernelspec": {
            "name": "python3",
            "display_name": "Python 3.8.8 64-bit ('.venv': venv)"
        },
        "interpreter": {
            "hash": "3af1a351bc38b8dbaa85d892c47840bee599ebcf59404735617ce8e82a959bc4"
        }
    },
    "nbformat": 4,
    "nbformat_minor": 2
}