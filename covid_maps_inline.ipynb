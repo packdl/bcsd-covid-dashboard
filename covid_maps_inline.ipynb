{
    "cells": [
        {
            "cell_type": "markdown",
            "source": [
                "# BCSD Infographic notebook\n",
                "This notebook provides various processing and infographics on COVID dashboard reporting for Berkeley County School District"
            ],
            "metadata": {}
        },
        {
            "cell_type": "markdown",
            "source": [
                "## Data imported and added to dataframe"
            ],
            "metadata": {}
        },
        {
            "cell_type": "code",
            "execution_count": 54,
            "source": [
                "\n",
                "import csv\n",
                "import pprint as pp\n",
                "from datetime import datetime, date, time\n",
                "from collections import namedtuple\n",
                "\n",
                "import pandas as pd\n",
                "import numpy as np\n",
                "import matplotlib\n",
                "import matplotlib.pyplot as plt\n",
                "import matplotlib.dates as mdates\n",
                "import ipywidgets as my_widgets\n",
                "\n",
                "keys = ['school','area','Date','staff_count','student_count','Datetime', 'staff_close_contacts','student_close_contacts']\n",
                "values = ['School','Area','Date','Staff Count','Student Count','DateTime', 'Staff Close Contacts', 'Student Close Contacts']\n",
                "\n",
                "headers = dict(zip(keys, values))\n",
                "record = namedtuple('Record', keys)\n",
                "\n",
                "# Open CSV File and deal with data format being changed. Write to new CSV file\n",
                "with open('./output/data.csv', 'r', newline='') as fp:\n",
                "    with open('./output/cleansed_data.csv', 'w', newline = '') as fp_out:\n",
                "        data = csv.reader(fp)\n",
                "        next(data)\n",
                "        writer = csv.DictWriter(fp_out, fieldnames=values)\n",
                "        writer.writeheader()\n",
                "\n",
                "        for row in data:\n",
                "            if len(row) == 6:\n",
                "                r = record(*row, '', '')\n",
                "                writer.writerow(dict(zip(values, tuple(r))))\n",
                "            elif len(row) == 7:\n",
                "                r = record(row[0],'', row[1], row[2],row[3],row[6], row[4], row[5])\n",
                "                writer.writerow(dict(zip(values, tuple(r))))\n",
                "            else:\n",
                "                print(row)\n",
                "\n",
                "with open('./output/cleansed_data.csv', 'r', newline = '') as fp_in:\n",
                "    df = pd.read_csv(fp_in, parse_dates=['Date','DateTime'], infer_datetime_format=True)\n",
                "\n",
                "    # Drop any duplicate data entries\n",
                "    cleaned_df = df.replace('Mt Holly Elementary', 'Mount Holly Elementary')\n",
                "    cleaned_df = cleaned_df.drop_duplicates(['School','Date'], keep='last')\n",
                "    "
            ],
            "outputs": [],
            "metadata": {}
        },
        {
            "cell_type": "markdown",
            "source": [
                "## List all schools and areas the district is tracking"
            ],
            "metadata": {}
        },
        {
            "cell_type": "code",
            "execution_count": 55,
            "source": [
                "print(f\"The school district is tracking {len(cleaned_df.School.unique())} schools, offices or departments.\")\n",
                "print(f\"Here is the full list.\")\n",
                "pp.pprint(list(cleaned_df.School.unique()), compact=True, width=120)"
            ],
            "outputs": [
                {
                    "output_type": "stream",
                    "name": "stdout",
                    "text": [
                        "The school district is tracking 85 schools, offices or departments.\n",
                        "Here is the full list.\n",
                        "['Berkeley County School District', 'Mount Holly Elementary', 'Academic Services', 'Administrative Services',\n",
                        " 'Adult Education - Hanahan', 'Adult Education - Moncks Corner', 'Berkeley Alternative', 'Berkeley Elementary',\n",
                        " 'Berkeley High School', 'Berkeley Intermediate', 'Berkeley Middle', 'Berkeley Middle College', 'Board of Education',\n",
                        " 'Bonner Elementary', 'Boulder Bluff Elementary', 'Bowens Corner Elementary', 'Cainhoy Elementary',\n",
                        " 'Cane Bay Elementary', 'Cane Bay High', 'Cane Bay Middle', 'Capital Improvements', 'Career Technical Ed', 'CDEP',\n",
                        " 'Child Nutrition', 'College Park Elementary', 'College Park Middle', 'Communications / Public Relations',\n",
                        " 'Cross Elementary', 'Cross High', 'Daniel Island School', 'Dist Office Transportation', 'Evaluation & Leadership',\n",
                        " 'Financial Services', 'First Steps', 'Foxbank Elementary', 'Goose Creek Elementary', 'Goose Creek High',\n",
                        " 'Hanahan Elementary', 'Hanahan High', 'Hanahan Middle', 'Head Start', 'Howe Hall Aims', 'Human Resources',\n",
                        " 'JK Goudin Elementary', 'Lowcountry Regional Stem', 'Macedonia Middle', 'Maintenance', 'Marrington Elementary',\n",
                        " 'Marrington Middle', 'Nexton Elementary', 'Office of Diversity', 'Operations / Administration',\n",
                        " 'Philip Simmons Elementary', 'Philip Simmons High', 'Philip Simmons Middle', 'Program Support', 'Safety and Security',\n",
                        " 'Sangaree Elementary', 'Sangaree Intermediate', 'Sangaree Middle', 'Sedgefield Middle', 'Special Needs Transportation',\n",
                        " 'Special Services', 'St. Stephen Elementary', 'St. Stephen Middle', 'Stratford High', 'Teacher Forum', 'Technology',\n",
                        " 'Timberland High', 'Transportation - Cainhoy', 'Transportation - Cross', 'Transportation - Goose Creek',\n",
                        " 'Transportation - Moncks Corner', 'Transportation - St. Stephen', 'Westview Elementary', 'Westview Middle',\n",
                        " 'Westview Primary', 'Whitesville Elementary', 'Devon Forest Elementary', 'Central Offices', 'Transportation',\n",
                        " 'Jk Goudin Elementary', 'St Stephen Elementary', 'St Stephen Middle', 'Fishburne Campus']\n"
                    ]
                }
            ],
            "metadata": {}
        },
        {
            "cell_type": "markdown",
            "source": [
                "## Top 5 Highest Schools Today"
            ],
            "metadata": {}
        },
        {
            "cell_type": "markdown",
            "source": [
                "###  By Student Count"
            ],
            "metadata": {}
        },
        {
            "cell_type": "code",
            "execution_count": 56,
            "source": [
                "most_recent_date = cleaned_df.Date.max().date()\n",
                "fav_cols = [\"School\", \"Date\", \"Staff Count\", \"Student Count\", \"Staff Close Contacts\", \"Student Close Contacts\"]\n",
                "if most_recent_date != date.today():\n",
                "    print(f\"Data is not available for today: {date.today()}\")\n",
                "    print(f\"Most recent date with data is {most_recent_date}\")\n",
                "cases_today = cleaned_df[cleaned_df.Date >= datetime.combine(most_recent_date,time())]\n",
                "highest_student_cnt = cases_today.sort_values(by=[\"Student Count\"], ascending=False)\n",
                "highest_student_cnt[highest_student_cnt.School!='Berkeley County School District'][fav_cols].head()"
            ],
            "outputs": [
                {
                    "output_type": "execute_result",
                    "data": {
                        "text/html": [
                            "<div>\n",
                            "<style scoped>\n",
                            "    .dataframe tbody tr th:only-of-type {\n",
                            "        vertical-align: middle;\n",
                            "    }\n",
                            "\n",
                            "    .dataframe tbody tr th {\n",
                            "        vertical-align: top;\n",
                            "    }\n",
                            "\n",
                            "    .dataframe thead th {\n",
                            "        text-align: right;\n",
                            "    }\n",
                            "</style>\n",
                            "<table border=\"1\" class=\"dataframe\">\n",
                            "  <thead>\n",
                            "    <tr style=\"text-align: right;\">\n",
                            "      <th></th>\n",
                            "      <th>School</th>\n",
                            "      <th>Date</th>\n",
                            "      <th>Staff Count</th>\n",
                            "      <th>Student Count</th>\n",
                            "      <th>Staff Close Contacts</th>\n",
                            "      <th>Student Close Contacts</th>\n",
                            "    </tr>\n",
                            "  </thead>\n",
                            "  <tbody>\n",
                            "    <tr>\n",
                            "      <th>649</th>\n",
                            "      <td>Berkeley Middle</td>\n",
                            "      <td>2021-09-08</td>\n",
                            "      <td>9</td>\n",
                            "      <td>67</td>\n",
                            "      <td>1.0</td>\n",
                            "      <td>242.0</td>\n",
                            "    </tr>\n",
                            "    <tr>\n",
                            "      <th>657</th>\n",
                            "      <td>Cane Bay Middle</td>\n",
                            "      <td>2021-09-08</td>\n",
                            "      <td>2</td>\n",
                            "      <td>63</td>\n",
                            "      <td>4.0</td>\n",
                            "      <td>262.0</td>\n",
                            "    </tr>\n",
                            "    <tr>\n",
                            "      <th>687</th>\n",
                            "      <td>Stratford High</td>\n",
                            "      <td>2021-09-08</td>\n",
                            "      <td>3</td>\n",
                            "      <td>45</td>\n",
                            "      <td>0.0</td>\n",
                            "      <td>196.0</td>\n",
                            "    </tr>\n",
                            "    <tr>\n",
                            "      <th>692</th>\n",
                            "      <td>Whitesville Elementary</td>\n",
                            "      <td>2021-09-08</td>\n",
                            "      <td>6</td>\n",
                            "      <td>38</td>\n",
                            "      <td>4.0</td>\n",
                            "      <td>103.0</td>\n",
                            "    </tr>\n",
                            "    <tr>\n",
                            "      <th>667</th>\n",
                            "      <td>Goose Creek High</td>\n",
                            "      <td>2021-09-08</td>\n",
                            "      <td>0</td>\n",
                            "      <td>33</td>\n",
                            "      <td>0.0</td>\n",
                            "      <td>137.0</td>\n",
                            "    </tr>\n",
                            "  </tbody>\n",
                            "</table>\n",
                            "</div>"
                        ],
                        "text/plain": [
                            "                     School       Date  Staff Count  Student Count  \\\n",
                            "649         Berkeley Middle 2021-09-08            9             67   \n",
                            "657         Cane Bay Middle 2021-09-08            2             63   \n",
                            "687          Stratford High 2021-09-08            3             45   \n",
                            "692  Whitesville Elementary 2021-09-08            6             38   \n",
                            "667        Goose Creek High 2021-09-08            0             33   \n",
                            "\n",
                            "     Staff Close Contacts  Student Close Contacts  \n",
                            "649                   1.0                   242.0  \n",
                            "657                   4.0                   262.0  \n",
                            "687                   0.0                   196.0  \n",
                            "692                   4.0                   103.0  \n",
                            "667                   0.0                   137.0  "
                        ]
                    },
                    "metadata": {},
                    "execution_count": 56
                }
            ],
            "metadata": {}
        },
        {
            "cell_type": "markdown",
            "source": [
                "### By Staff Count"
            ],
            "metadata": {}
        },
        {
            "cell_type": "code",
            "execution_count": 57,
            "source": [
                "highest_staff_cnt = cases_today.sort_values(by=[\"Staff Count\"], ascending=False)\n",
                "highest_staff_cnt[highest_staff_cnt.School!='Berkeley County School District'][fav_cols].head()"
            ],
            "outputs": [
                {
                    "output_type": "execute_result",
                    "data": {
                        "text/html": [
                            "<div>\n",
                            "<style scoped>\n",
                            "    .dataframe tbody tr th:only-of-type {\n",
                            "        vertical-align: middle;\n",
                            "    }\n",
                            "\n",
                            "    .dataframe tbody tr th {\n",
                            "        vertical-align: top;\n",
                            "    }\n",
                            "\n",
                            "    .dataframe thead th {\n",
                            "        text-align: right;\n",
                            "    }\n",
                            "</style>\n",
                            "<table border=\"1\" class=\"dataframe\">\n",
                            "  <thead>\n",
                            "    <tr style=\"text-align: right;\">\n",
                            "      <th></th>\n",
                            "      <th>School</th>\n",
                            "      <th>Date</th>\n",
                            "      <th>Staff Count</th>\n",
                            "      <th>Student Count</th>\n",
                            "      <th>Staff Close Contacts</th>\n",
                            "      <th>Student Close Contacts</th>\n",
                            "    </tr>\n",
                            "  </thead>\n",
                            "  <tbody>\n",
                            "    <tr>\n",
                            "      <th>649</th>\n",
                            "      <td>Berkeley Middle</td>\n",
                            "      <td>2021-09-08</td>\n",
                            "      <td>9</td>\n",
                            "      <td>67</td>\n",
                            "      <td>1.0</td>\n",
                            "      <td>242.0</td>\n",
                            "    </tr>\n",
                            "    <tr>\n",
                            "      <th>677</th>\n",
                            "      <td>Nexton Elementary</td>\n",
                            "      <td>2021-09-08</td>\n",
                            "      <td>7</td>\n",
                            "      <td>28</td>\n",
                            "      <td>2.0</td>\n",
                            "      <td>88.0</td>\n",
                            "    </tr>\n",
                            "    <tr>\n",
                            "      <th>681</th>\n",
                            "      <td>Sangaree Elementary</td>\n",
                            "      <td>2021-09-08</td>\n",
                            "      <td>6</td>\n",
                            "      <td>31</td>\n",
                            "      <td>2.0</td>\n",
                            "      <td>87.0</td>\n",
                            "    </tr>\n",
                            "    <tr>\n",
                            "      <th>692</th>\n",
                            "      <td>Whitesville Elementary</td>\n",
                            "      <td>2021-09-08</td>\n",
                            "      <td>6</td>\n",
                            "      <td>38</td>\n",
                            "      <td>4.0</td>\n",
                            "      <td>103.0</td>\n",
                            "    </tr>\n",
                            "    <tr>\n",
                            "      <th>663</th>\n",
                            "      <td>Devon Forest Elementary</td>\n",
                            "      <td>2021-09-08</td>\n",
                            "      <td>5</td>\n",
                            "      <td>13</td>\n",
                            "      <td>3.0</td>\n",
                            "      <td>61.0</td>\n",
                            "    </tr>\n",
                            "  </tbody>\n",
                            "</table>\n",
                            "</div>"
                        ],
                        "text/plain": [
                            "                      School       Date  Staff Count  Student Count  \\\n",
                            "649          Berkeley Middle 2021-09-08            9             67   \n",
                            "677        Nexton Elementary 2021-09-08            7             28   \n",
                            "681      Sangaree Elementary 2021-09-08            6             31   \n",
                            "692   Whitesville Elementary 2021-09-08            6             38   \n",
                            "663  Devon Forest Elementary 2021-09-08            5             13   \n",
                            "\n",
                            "     Staff Close Contacts  Student Close Contacts  \n",
                            "649                   1.0                   242.0  \n",
                            "677                   2.0                    88.0  \n",
                            "681                   2.0                    87.0  \n",
                            "692                   4.0                   103.0  \n",
                            "663                   3.0                    61.0  "
                        ]
                    },
                    "metadata": {},
                    "execution_count": 57
                }
            ],
            "metadata": {}
        },
        {
            "cell_type": "markdown",
            "source": [
                "## Top 5 Highest Schools All Time"
            ],
            "metadata": {}
        },
        {
            "cell_type": "markdown",
            "source": [
                "###  By Student Count"
            ],
            "metadata": {}
        },
        {
            "cell_type": "code",
            "execution_count": 58,
            "source": [
                "all_time_students = cleaned_df.sort_values(by=[\"Student Count\",\"School\"], ascending=False).drop_duplicates([\"School\"], keep='first')\n",
                "all_time_students[all_time_students.School!='Berkeley County School District'][fav_cols].head()"
            ],
            "outputs": [
                {
                    "output_type": "execute_result",
                    "data": {
                        "text/html": [
                            "<div>\n",
                            "<style scoped>\n",
                            "    .dataframe tbody tr th:only-of-type {\n",
                            "        vertical-align: middle;\n",
                            "    }\n",
                            "\n",
                            "    .dataframe tbody tr th {\n",
                            "        vertical-align: top;\n",
                            "    }\n",
                            "\n",
                            "    .dataframe thead th {\n",
                            "        text-align: right;\n",
                            "    }\n",
                            "</style>\n",
                            "<table border=\"1\" class=\"dataframe\">\n",
                            "  <thead>\n",
                            "    <tr style=\"text-align: right;\">\n",
                            "      <th></th>\n",
                            "      <th>School</th>\n",
                            "      <th>Date</th>\n",
                            "      <th>Staff Count</th>\n",
                            "      <th>Student Count</th>\n",
                            "      <th>Staff Close Contacts</th>\n",
                            "      <th>Student Close Contacts</th>\n",
                            "    </tr>\n",
                            "  </thead>\n",
                            "  <tbody>\n",
                            "    <tr>\n",
                            "      <th>582</th>\n",
                            "      <td>Stratford High</td>\n",
                            "      <td>2021-09-03</td>\n",
                            "      <td>6</td>\n",
                            "      <td>116</td>\n",
                            "      <td>NaN</td>\n",
                            "      <td>NaN</td>\n",
                            "    </tr>\n",
                            "    <tr>\n",
                            "      <th>545</th>\n",
                            "      <td>Berkeley Middle</td>\n",
                            "      <td>2021-09-03</td>\n",
                            "      <td>7</td>\n",
                            "      <td>104</td>\n",
                            "      <td>NaN</td>\n",
                            "      <td>NaN</td>\n",
                            "    </tr>\n",
                            "    <tr>\n",
                            "      <th>553</th>\n",
                            "      <td>Cane Bay Middle</td>\n",
                            "      <td>2021-09-03</td>\n",
                            "      <td>2</td>\n",
                            "      <td>88</td>\n",
                            "      <td>NaN</td>\n",
                            "      <td>NaN</td>\n",
                            "    </tr>\n",
                            "    <tr>\n",
                            "      <th>439</th>\n",
                            "      <td>Berkeley High School</td>\n",
                            "      <td>2021-09-01</td>\n",
                            "      <td>2</td>\n",
                            "      <td>78</td>\n",
                            "      <td>NaN</td>\n",
                            "      <td>NaN</td>\n",
                            "    </tr>\n",
                            "    <tr>\n",
                            "      <th>500</th>\n",
                            "      <td>Cane Bay High</td>\n",
                            "      <td>2021-09-02</td>\n",
                            "      <td>4</td>\n",
                            "      <td>77</td>\n",
                            "      <td>NaN</td>\n",
                            "      <td>NaN</td>\n",
                            "    </tr>\n",
                            "  </tbody>\n",
                            "</table>\n",
                            "</div>"
                        ],
                        "text/plain": [
                            "                   School       Date  Staff Count  Student Count  \\\n",
                            "582        Stratford High 2021-09-03            6            116   \n",
                            "545       Berkeley Middle 2021-09-03            7            104   \n",
                            "553       Cane Bay Middle 2021-09-03            2             88   \n",
                            "439  Berkeley High School 2021-09-01            2             78   \n",
                            "500         Cane Bay High 2021-09-02            4             77   \n",
                            "\n",
                            "     Staff Close Contacts  Student Close Contacts  \n",
                            "582                   NaN                     NaN  \n",
                            "545                   NaN                     NaN  \n",
                            "553                   NaN                     NaN  \n",
                            "439                   NaN                     NaN  \n",
                            "500                   NaN                     NaN  "
                        ]
                    },
                    "metadata": {},
                    "execution_count": 58
                }
            ],
            "metadata": {}
        },
        {
            "cell_type": "markdown",
            "source": [
                "### By Staff Count"
            ],
            "metadata": {}
        },
        {
            "cell_type": "code",
            "execution_count": 59,
            "source": [
                "all_time_students = cleaned_df.sort_values(by=[\"Staff Count\",\"School\"], ascending=False).drop_duplicates([\"School\"], keep='first')\n",
                "all_time_students[all_time_students.School!='Berkeley County School District'][fav_cols].head()"
            ],
            "outputs": [
                {
                    "output_type": "execute_result",
                    "data": {
                        "text/html": [
                            "<div>\n",
                            "<style scoped>\n",
                            "    .dataframe tbody tr th:only-of-type {\n",
                            "        vertical-align: middle;\n",
                            "    }\n",
                            "\n",
                            "    .dataframe tbody tr th {\n",
                            "        vertical-align: top;\n",
                            "    }\n",
                            "\n",
                            "    .dataframe thead th {\n",
                            "        text-align: right;\n",
                            "    }\n",
                            "</style>\n",
                            "<table border=\"1\" class=\"dataframe\">\n",
                            "  <thead>\n",
                            "    <tr style=\"text-align: right;\">\n",
                            "      <th></th>\n",
                            "      <th>School</th>\n",
                            "      <th>Date</th>\n",
                            "      <th>Staff Count</th>\n",
                            "      <th>Student Count</th>\n",
                            "      <th>Staff Close Contacts</th>\n",
                            "      <th>Student Close Contacts</th>\n",
                            "    </tr>\n",
                            "  </thead>\n",
                            "  <tbody>\n",
                            "    <tr>\n",
                            "      <th>577</th>\n",
                            "      <td>Sangaree Elementary</td>\n",
                            "      <td>2021-09-03</td>\n",
                            "      <td>10</td>\n",
                            "      <td>48</td>\n",
                            "      <td>NaN</td>\n",
                            "      <td>NaN</td>\n",
                            "    </tr>\n",
                            "    <tr>\n",
                            "      <th>649</th>\n",
                            "      <td>Berkeley Middle</td>\n",
                            "      <td>2021-09-08</td>\n",
                            "      <td>9</td>\n",
                            "      <td>67</td>\n",
                            "      <td>1.0</td>\n",
                            "      <td>242.0</td>\n",
                            "    </tr>\n",
                            "    <tr>\n",
                            "      <th>29</th>\n",
                            "      <td>Cane Bay High</td>\n",
                            "      <td>2021-08-24</td>\n",
                            "      <td>8</td>\n",
                            "      <td>43</td>\n",
                            "      <td>NaN</td>\n",
                            "      <td>NaN</td>\n",
                            "    </tr>\n",
                            "    <tr>\n",
                            "      <th>490</th>\n",
                            "      <td>Berkeley Elementary</td>\n",
                            "      <td>2021-09-02</td>\n",
                            "      <td>8</td>\n",
                            "      <td>32</td>\n",
                            "      <td>NaN</td>\n",
                            "      <td>NaN</td>\n",
                            "    </tr>\n",
                            "    <tr>\n",
                            "      <th>587</th>\n",
                            "      <td>Whitesville Elementary</td>\n",
                            "      <td>2021-09-03</td>\n",
                            "      <td>7</td>\n",
                            "      <td>49</td>\n",
                            "      <td>NaN</td>\n",
                            "      <td>NaN</td>\n",
                            "    </tr>\n",
                            "  </tbody>\n",
                            "</table>\n",
                            "</div>"
                        ],
                        "text/plain": [
                            "                     School       Date  Staff Count  Student Count  \\\n",
                            "577     Sangaree Elementary 2021-09-03           10             48   \n",
                            "649         Berkeley Middle 2021-09-08            9             67   \n",
                            "29            Cane Bay High 2021-08-24            8             43   \n",
                            "490     Berkeley Elementary 2021-09-02            8             32   \n",
                            "587  Whitesville Elementary 2021-09-03            7             49   \n",
                            "\n",
                            "     Staff Close Contacts  Student Close Contacts  \n",
                            "577                   NaN                     NaN  \n",
                            "649                   1.0                   242.0  \n",
                            "29                    NaN                     NaN  \n",
                            "490                   NaN                     NaN  \n",
                            "587                   NaN                     NaN  "
                        ]
                    },
                    "metadata": {},
                    "execution_count": 59
                }
            ],
            "metadata": {}
        },
        {
            "cell_type": "code",
            "execution_count": 60,
            "source": [
                "def print_recent_daily_difference(given_school):\n",
                "    #current_district_cnts = given_school[given_school.Date.apply(datetime.date) == most_recent_date].tail(1)\n",
                "    maximum_date = given_school.Date.max().date()\n",
                "    current_district_cnts = given_school[given_school.Date.apply(datetime.date) == maximum_date].tail(1)\n",
                "    curr_district_staff_cnt = current_district_cnts[\"Staff Count\"].iat[0]\n",
                "    curr_district_student_cnt = current_district_cnts[\"Student Count\"].iat[0]\n",
                "       \n",
                "    previous_date = given_school[given_school.Date.apply(datetime.date) != maximum_date].Date.max()\n",
                "\n",
                "    previous_day_district = given_school[given_school.Date == previous_date]\n",
                "    previous_district_staff_cnt = previous_day_district[\"Staff Count\"].iat[0]\n",
                "    previous_district_student_cnt = previous_day_district[\"Student Count\"].iat[0]\n",
                "\n",
                "    print(f\"On {maximum_date} Student Count: {curr_district_student_cnt}. Staff Count: {curr_district_staff_cnt}\")\n",
                "    print(f\"On {previous_date.date()} Student Count: {previous_district_student_cnt}. Staff Count: {previous_district_staff_cnt}\")\n",
                "    print(f\"Difference between {maximum_date} and {previous_date.date()}. Student Count: {curr_district_student_cnt-previous_district_student_cnt}. Staff Count: {curr_district_staff_cnt-previous_district_staff_cnt}\")"
            ],
            "outputs": [],
            "metadata": {}
        },
        {
            "cell_type": "markdown",
            "source": [
                "## Graphs"
            ],
            "metadata": {}
        },
        {
            "cell_type": "markdown",
            "source": [
                "### BCSD - 14 Day Cumulative reported daily"
            ],
            "metadata": {}
        },
        {
            "cell_type": "code",
            "execution_count": 61,
            "source": [
                "district = cleaned_df[cleaned_df.School=='Berkeley County School District']\n",
                "\n",
                "print_recent_daily_difference(district)\n",
                "    \n",
                "bcsd_ax = district.plot(\"Date\",[\"Student Count\", \"Staff Count\"], kind='area', ylabel='Count', title=\"14 Day Cumulative by Day for BCSD\")\n",
                "bcsd_ax.plot()"
            ],
            "outputs": [
                {
                    "output_type": "stream",
                    "name": "stdout",
                    "text": [
                        "On 2021-09-08 Student Count: 836. Staff Count: 86\n",
                        "On 2021-09-07 Student Count: 886. Staff Count: 76\n",
                        "Difference between 2021-09-08 and 2021-09-07. Student Count: -50. Staff Count: 10\n"
                    ]
                },
                {
                    "output_type": "execute_result",
                    "data": {
                        "text/plain": [
                            "[]"
                        ]
                    },
                    "metadata": {},
                    "execution_count": 61
                },
                {
                    "output_type": "display_data",
                    "data": {
                        "image/png": "[encoded data removed]",
                        "text/plain": [
                            "<Figure size 432x288 with 1 Axes>"
                        ]
                    },
                    "metadata": {
                        "needs_background": "light"
                    }
                }
            ],
            "metadata": {}
        },
        {
            "cell_type": "markdown",
            "source": [
                "### Mount Holly Elementary"
            ],
            "metadata": {}
        },
        {
            "cell_type": "code",
            "execution_count": 62,
            "source": [
                "district = cleaned_df[cleaned_df.School=='Mount Holly Elementary']\n",
                "print_recent_daily_difference(district)\n",
                "mhe_ax = district.plot(\"Date\",[\"Student Count\", \"Staff Count\"], kind='area', ylabel='Count', title=\"14 Day Cumulative by Day for Mount Holly Elementary\")\n",
                "mhe_ax.plot()"
            ],
            "outputs": [
                {
                    "output_type": "stream",
                    "name": "stdout",
                    "text": [
                        "On 2021-09-08 Student Count: 25. Staff Count: 2\n",
                        "On 2021-09-07 Student Count: 30. Staff Count: 2\n",
                        "Difference between 2021-09-08 and 2021-09-07. Student Count: -5. Staff Count: 0\n"
                    ]
                },
                {
                    "output_type": "execute_result",
                    "data": {
                        "text/plain": [
                            "[]"
                        ]
                    },
                    "metadata": {},
                    "execution_count": 62
                },
                {
                    "output_type": "display_data",
                    "data": {
                        "image/png": "[encoded data removed]",
                        "text/plain": [
                            "<Figure size 432x288 with 1 Axes>"
                        ]
                    },
                    "metadata": {
                        "needs_background": "light"
                    }
                }
            ],
            "metadata": {}
        },
        {
            "cell_type": "markdown",
            "source": [
                "### Bonner Elementary"
            ],
            "metadata": {}
        },
        {
            "cell_type": "code",
            "execution_count": 63,
            "source": [
                "district = cleaned_df[cleaned_df.School=='Bonner Elementary']\n",
                "print_recent_daily_difference(district)\n",
                "bonn_ax = district.plot(\"Date\",[\"Student Count\", \"Staff Count\"], kind='area', ylabel='Count', title=\"14 Day Cumulative by Day for Bonner Elementary\")\n",
                "bonn_ax.plot()"
            ],
            "outputs": [
                {
                    "output_type": "stream",
                    "name": "stdout",
                    "text": [
                        "On 2021-09-08 Student Count: 17. Staff Count: 4\n",
                        "On 2021-09-07 Student Count: 12. Staff Count: 2\n",
                        "Difference between 2021-09-08 and 2021-09-07. Student Count: 5. Staff Count: 2\n"
                    ]
                },
                {
                    "output_type": "execute_result",
                    "data": {
                        "text/plain": [
                            "[]"
                        ]
                    },
                    "metadata": {},
                    "execution_count": 63
                },
                {
                    "output_type": "display_data",
                    "data": {
                        "image/png": "[encoded data removed]",
                        "text/plain": [
                            "<Figure size 432x288 with 1 Axes>"
                        ]
                    },
                    "metadata": {
                        "needs_background": "light"
                    }
                }
            ],
            "metadata": {}
        }
    ],
    "metadata": {
        "orig_nbformat": 4,
        "language_info": {
            "name": "python",
            "version": "3.8.8",
            "mimetype": "text/x-python",
            "codemirror_mode": {
                "name": "ipython",
                "version": 3
            },
            "pygments_lexer": "ipython3",
            "nbconvert_exporter": "python",
            "file_extension": ".py"
        },
        "kernelspec": {
            "name": "python3",
            "display_name": "Python 3.8.8 64-bit ('.venv': venv)"
        },
        "interpreter": {
            "hash": "3af1a351bc38b8dbaa85d892c47840bee599ebcf59404735617ce8e82a959bc4"
        }
    },
    "nbformat": 4,
    "nbformat_minor": 2
}