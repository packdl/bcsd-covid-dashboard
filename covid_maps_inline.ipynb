{
    "cells": [
        {
            "cell_type": "markdown",
            "source": [
                "# BCSD Infographic notebook\n",
                "This notebook provides various processing and infographics on COVID dashboard reporting for Berkeley County School District"
            ],
            "metadata": {}
        },
        {
            "cell_type": "markdown",
            "source": [
                "## Data imported and added to dataframe"
            ],
            "metadata": {}
        },
        {
            "cell_type": "code",
            "execution_count": 1,
            "source": [
                "\n",
                "import csv\n",
                "import pprint as pp\n",
                "from datetime import datetime, date, time\n",
                "\n",
                "import pandas as pd\n",
                "import numpy as np\n",
                "%matplotlib widget\n",
                "import matplotlib\n",
                "import matplotlib.pyplot as plt\n",
                "import matplotlib.dates as mdates\n",
                "import ipywidgets as my_widgets\n",
                "\n",
                "with open('./output/data.csv', 'r') as fp:\n",
                "    df = pd.read_csv(fp, parse_dates=['Date','DateTime'], infer_datetime_format=True)\n",
                "\n",
                "    # Drop any duplicate data entries\n",
                "    cleaned_df = df.replace('Mt Holly Elementary', 'Mount Holly Elementary')\n",
                "    cleaned_df = cleaned_df.drop_duplicates(['School','Date'], keep='last')\n",
                "    "
            ],
            "outputs": [],
            "metadata": {}
        },
        {
            "cell_type": "markdown",
            "source": [
                "## List all schools and areas the district is tracking"
            ],
            "metadata": {}
        },
        {
            "cell_type": "code",
            "execution_count": 2,
            "source": [
                "print(f\"The school district is tracking {len(cleaned_df.School.unique())} schools, offices or departments.\")\n",
                "print(f\"Here is the full list.\")\n",
                "pp.pprint(list(cleaned_df.School.unique()), compact=True, width=120)"
            ],
            "outputs": [
                {
                    "output_type": "stream",
                    "name": "stdout",
                    "text": [
                        "The school district is tracking 84 schools, offices or departments.\n",
                        "Here is the full list.\n",
                        "['Berkeley County School District', 'Mount Holly Elementary', 'Academic Services', 'Administrative Services',\n",
                        " 'Adult Education - Hanahan', 'Adult Education - Moncks Corner', 'Berkeley Alternative', 'Berkeley Elementary',\n",
                        " 'Berkeley High School', 'Berkeley Intermediate', 'Berkeley Middle', 'Berkeley Middle College', 'Board of Education',\n",
                        " 'Bonner Elementary', 'Boulder Bluff Elementary', 'Bowens Corner Elementary', 'Cainhoy Elementary',\n",
                        " 'Cane Bay Elementary', 'Cane Bay High', 'Cane Bay Middle', 'Capital Improvements', 'Career Technical Ed', 'CDEP',\n",
                        " 'Child Nutrition', 'College Park Elementary', 'College Park Middle', 'Communications / Public Relations',\n",
                        " 'Cross Elementary', 'Cross High', 'Daniel Island School', 'Dist Office Transportation', 'Evaluation & Leadership',\n",
                        " 'Financial Services', 'First Steps', 'Foxbank Elementary', 'Goose Creek Elementary', 'Goose Creek High',\n",
                        " 'Hanahan Elementary', 'Hanahan High', 'Hanahan Middle', 'Head Start', 'Howe Hall Aims', 'Human Resources',\n",
                        " 'JK Goudin Elementary', 'Lowcountry Regional Stem', 'Macedonia Middle', 'Maintenance', 'Marrington Elementary',\n",
                        " 'Marrington Middle', 'Nexton Elementary', 'Office of Diversity', 'Operations / Administration',\n",
                        " 'Philip Simmons Elementary', 'Philip Simmons High', 'Philip Simmons Middle', 'Program Support', 'Safety and Security',\n",
                        " 'Sangaree Elementary', 'Sangaree Intermediate', 'Sangaree Middle', 'Sedgefield Middle', 'Special Needs Transportation',\n",
                        " 'Special Services', 'St. Stephen Elementary', 'St. Stephen Middle', 'Stratford High', 'Teacher Forum', 'Technology',\n",
                        " 'Timberland High', 'Transportation - Cainhoy', 'Transportation - Cross', 'Transportation - Goose Creek',\n",
                        " 'Transportation - Moncks Corner', 'Transportation - St. Stephen', 'Westview Elementary', 'Westview Middle',\n",
                        " 'Westview Primary', 'Whitesville Elementary', 'Devon Forest Elementary', 'Central Offices', 'Transportation',\n",
                        " 'Jk Goudin Elementary', 'St Stephen Elementary', 'St Stephen Middle']\n"
                    ]
                }
            ],
            "metadata": {}
        },
        {
            "cell_type": "markdown",
            "source": [
                "## Top 5 Highest Schools Today"
            ],
            "metadata": {}
        },
        {
            "cell_type": "markdown",
            "source": [
                "###  By Student Count"
            ],
            "metadata": {}
        },
        {
            "cell_type": "code",
            "execution_count": 3,
            "source": [
                "most_recent_date = cleaned_df.Date.max().date()\n",
                "if most_recent_date != date.today():\n",
                "    print(f\"Data is not available for today: {date.today()}\")\n",
                "    print(f\"Most recent date with data is {most_recent_date}\")\n",
                "cases_today = cleaned_df[cleaned_df.Date >= datetime.combine(most_recent_date,time())]\n",
                "highest_student_cnt = cases_today.sort_values(by=[\"Student Count\"], ascending=False)\n",
                "highest_student_cnt[highest_student_cnt.School!='Berkeley County School District'].head()"
            ],
            "outputs": [
                {
                    "output_type": "execute_result",
                    "data": {
                        "text/plain": [
                            "                   School           Area       Date  Staff Count  \\\n",
                            "344         Cane Bay High    Summerville 2021-08-30            6   \n",
                            "335  Berkeley High School  Moncks Corner 2021-08-30            0   \n",
                            "374        Stratford High    Goose Creek 2021-08-30            4   \n",
                            "345       Cane Bay Middle    Summerville 2021-08-30            2   \n",
                            "354      Goose Creek High    Goose Creek 2021-08-30            1   \n",
                            "\n",
                            "     Student Count            DateTime  \n",
                            "344             67 2021-08-30 04:13:50  \n",
                            "335             59 2021-08-30 04:13:50  \n",
                            "374             46 2021-08-30 04:13:50  \n",
                            "345             34 2021-08-30 04:13:50  \n",
                            "354             33 2021-08-30 04:13:50  "
                        ],
                        "text/html": [
                            "<div>\n",
                            "<style scoped>\n",
                            "    .dataframe tbody tr th:only-of-type {\n",
                            "        vertical-align: middle;\n",
                            "    }\n",
                            "\n",
                            "    .dataframe tbody tr th {\n",
                            "        vertical-align: top;\n",
                            "    }\n",
                            "\n",
                            "    .dataframe thead th {\n",
                            "        text-align: right;\n",
                            "    }\n",
                            "</style>\n",
                            "<table border=\"1\" class=\"dataframe\">\n",
                            "  <thead>\n",
                            "    <tr style=\"text-align: right;\">\n",
                            "      <th></th>\n",
                            "      <th>School</th>\n",
                            "      <th>Area</th>\n",
                            "      <th>Date</th>\n",
                            "      <th>Staff Count</th>\n",
                            "      <th>Student Count</th>\n",
                            "      <th>DateTime</th>\n",
                            "    </tr>\n",
                            "  </thead>\n",
                            "  <tbody>\n",
                            "    <tr>\n",
                            "      <th>344</th>\n",
                            "      <td>Cane Bay High</td>\n",
                            "      <td>Summerville</td>\n",
                            "      <td>2021-08-30</td>\n",
                            "      <td>6</td>\n",
                            "      <td>67</td>\n",
                            "      <td>2021-08-30 04:13:50</td>\n",
                            "    </tr>\n",
                            "    <tr>\n",
                            "      <th>335</th>\n",
                            "      <td>Berkeley High School</td>\n",
                            "      <td>Moncks Corner</td>\n",
                            "      <td>2021-08-30</td>\n",
                            "      <td>0</td>\n",
                            "      <td>59</td>\n",
                            "      <td>2021-08-30 04:13:50</td>\n",
                            "    </tr>\n",
                            "    <tr>\n",
                            "      <th>374</th>\n",
                            "      <td>Stratford High</td>\n",
                            "      <td>Goose Creek</td>\n",
                            "      <td>2021-08-30</td>\n",
                            "      <td>4</td>\n",
                            "      <td>46</td>\n",
                            "      <td>2021-08-30 04:13:50</td>\n",
                            "    </tr>\n",
                            "    <tr>\n",
                            "      <th>345</th>\n",
                            "      <td>Cane Bay Middle</td>\n",
                            "      <td>Summerville</td>\n",
                            "      <td>2021-08-30</td>\n",
                            "      <td>2</td>\n",
                            "      <td>34</td>\n",
                            "      <td>2021-08-30 04:13:50</td>\n",
                            "    </tr>\n",
                            "    <tr>\n",
                            "      <th>354</th>\n",
                            "      <td>Goose Creek High</td>\n",
                            "      <td>Goose Creek</td>\n",
                            "      <td>2021-08-30</td>\n",
                            "      <td>1</td>\n",
                            "      <td>33</td>\n",
                            "      <td>2021-08-30 04:13:50</td>\n",
                            "    </tr>\n",
                            "  </tbody>\n",
                            "</table>\n",
                            "</div>"
                        ]
                    },
                    "metadata": {},
                    "execution_count": 3
                }
            ],
            "metadata": {}
        },
        {
            "cell_type": "markdown",
            "source": [
                "### By Staff Count"
            ],
            "metadata": {}
        },
        {
            "cell_type": "code",
            "execution_count": 4,
            "source": [
                "highest_staff_cnt = cases_today.sort_values(by=[\"Staff Count\"], ascending=False)\n",
                "highest_staff_cnt[highest_staff_cnt.School!='Berkeley County School District'].head()"
            ],
            "outputs": [
                {
                    "output_type": "execute_result",
                    "data": {
                        "text/plain": [
                            "                  School           Area       Date  Staff Count  \\\n",
                            "355   Hanahan Elementary        Hanahan 2021-08-30            6   \n",
                            "339    Bonner Elementary  Moncks Corner 2021-08-30            6   \n",
                            "344        Cane Bay High    Summerville 2021-08-30            6   \n",
                            "343  Cane Bay Elementary    Summerville 2021-08-30            5   \n",
                            "368  Sangaree Elementary    Summerville 2021-08-30            5   \n",
                            "\n",
                            "     Student Count            DateTime  \n",
                            "355             31 2021-08-30 04:13:50  \n",
                            "339             31 2021-08-30 04:13:50  \n",
                            "344             67 2021-08-30 04:13:50  \n",
                            "343             28 2021-08-30 04:13:50  \n",
                            "368             17 2021-08-30 04:13:50  "
                        ],
                        "text/html": [
                            "<div>\n",
                            "<style scoped>\n",
                            "    .dataframe tbody tr th:only-of-type {\n",
                            "        vertical-align: middle;\n",
                            "    }\n",
                            "\n",
                            "    .dataframe tbody tr th {\n",
                            "        vertical-align: top;\n",
                            "    }\n",
                            "\n",
                            "    .dataframe thead th {\n",
                            "        text-align: right;\n",
                            "    }\n",
                            "</style>\n",
                            "<table border=\"1\" class=\"dataframe\">\n",
                            "  <thead>\n",
                            "    <tr style=\"text-align: right;\">\n",
                            "      <th></th>\n",
                            "      <th>School</th>\n",
                            "      <th>Area</th>\n",
                            "      <th>Date</th>\n",
                            "      <th>Staff Count</th>\n",
                            "      <th>Student Count</th>\n",
                            "      <th>DateTime</th>\n",
                            "    </tr>\n",
                            "  </thead>\n",
                            "  <tbody>\n",
                            "    <tr>\n",
                            "      <th>355</th>\n",
                            "      <td>Hanahan Elementary</td>\n",
                            "      <td>Hanahan</td>\n",
                            "      <td>2021-08-30</td>\n",
                            "      <td>6</td>\n",
                            "      <td>31</td>\n",
                            "      <td>2021-08-30 04:13:50</td>\n",
                            "    </tr>\n",
                            "    <tr>\n",
                            "      <th>339</th>\n",
                            "      <td>Bonner Elementary</td>\n",
                            "      <td>Moncks Corner</td>\n",
                            "      <td>2021-08-30</td>\n",
                            "      <td>6</td>\n",
                            "      <td>31</td>\n",
                            "      <td>2021-08-30 04:13:50</td>\n",
                            "    </tr>\n",
                            "    <tr>\n",
                            "      <th>344</th>\n",
                            "      <td>Cane Bay High</td>\n",
                            "      <td>Summerville</td>\n",
                            "      <td>2021-08-30</td>\n",
                            "      <td>6</td>\n",
                            "      <td>67</td>\n",
                            "      <td>2021-08-30 04:13:50</td>\n",
                            "    </tr>\n",
                            "    <tr>\n",
                            "      <th>343</th>\n",
                            "      <td>Cane Bay Elementary</td>\n",
                            "      <td>Summerville</td>\n",
                            "      <td>2021-08-30</td>\n",
                            "      <td>5</td>\n",
                            "      <td>28</td>\n",
                            "      <td>2021-08-30 04:13:50</td>\n",
                            "    </tr>\n",
                            "    <tr>\n",
                            "      <th>368</th>\n",
                            "      <td>Sangaree Elementary</td>\n",
                            "      <td>Summerville</td>\n",
                            "      <td>2021-08-30</td>\n",
                            "      <td>5</td>\n",
                            "      <td>17</td>\n",
                            "      <td>2021-08-30 04:13:50</td>\n",
                            "    </tr>\n",
                            "  </tbody>\n",
                            "</table>\n",
                            "</div>"
                        ]
                    },
                    "metadata": {},
                    "execution_count": 4
                }
            ],
            "metadata": {}
        },
        {
            "cell_type": "markdown",
            "source": [
                "## Top 5 Highest Schools All Time"
            ],
            "metadata": {}
        },
        {
            "cell_type": "markdown",
            "source": [
                "###  By Student Count"
            ],
            "metadata": {}
        },
        {
            "cell_type": "code",
            "execution_count": 5,
            "source": [
                "all_time_students = cleaned_df.sort_values(by=[\"Student Count\",\"School\"], ascending=False).drop_duplicates([\"School\"], keep='first')\n",
                "all_time_students[all_time_students.School!='Berkeley County School District'].head()"
            ],
            "outputs": [
                {
                    "output_type": "execute_result",
                    "data": {
                        "text/plain": [
                            "                     School           Area       Date  Staff Count  \\\n",
                            "344           Cane Bay High    Summerville 2021-08-30            6   \n",
                            "335    Berkeley High School  Moncks Corner 2021-08-30            0   \n",
                            "374          Stratford High    Goose Creek 2021-08-30            4   \n",
                            "345         Cane Bay Middle    Summerville 2021-08-30            2   \n",
                            "379  Whitesville Elementary  Moncks Corner 2021-08-30            3   \n",
                            "\n",
                            "     Student Count            DateTime  \n",
                            "344             67 2021-08-30 04:13:50  \n",
                            "335             59 2021-08-30 04:13:50  \n",
                            "374             46 2021-08-30 04:13:50  \n",
                            "345             34 2021-08-30 04:13:50  \n",
                            "379             33 2021-08-30 04:13:50  "
                        ],
                        "text/html": [
                            "<div>\n",
                            "<style scoped>\n",
                            "    .dataframe tbody tr th:only-of-type {\n",
                            "        vertical-align: middle;\n",
                            "    }\n",
                            "\n",
                            "    .dataframe tbody tr th {\n",
                            "        vertical-align: top;\n",
                            "    }\n",
                            "\n",
                            "    .dataframe thead th {\n",
                            "        text-align: right;\n",
                            "    }\n",
                            "</style>\n",
                            "<table border=\"1\" class=\"dataframe\">\n",
                            "  <thead>\n",
                            "    <tr style=\"text-align: right;\">\n",
                            "      <th></th>\n",
                            "      <th>School</th>\n",
                            "      <th>Area</th>\n",
                            "      <th>Date</th>\n",
                            "      <th>Staff Count</th>\n",
                            "      <th>Student Count</th>\n",
                            "      <th>DateTime</th>\n",
                            "    </tr>\n",
                            "  </thead>\n",
                            "  <tbody>\n",
                            "    <tr>\n",
                            "      <th>344</th>\n",
                            "      <td>Cane Bay High</td>\n",
                            "      <td>Summerville</td>\n",
                            "      <td>2021-08-30</td>\n",
                            "      <td>6</td>\n",
                            "      <td>67</td>\n",
                            "      <td>2021-08-30 04:13:50</td>\n",
                            "    </tr>\n",
                            "    <tr>\n",
                            "      <th>335</th>\n",
                            "      <td>Berkeley High School</td>\n",
                            "      <td>Moncks Corner</td>\n",
                            "      <td>2021-08-30</td>\n",
                            "      <td>0</td>\n",
                            "      <td>59</td>\n",
                            "      <td>2021-08-30 04:13:50</td>\n",
                            "    </tr>\n",
                            "    <tr>\n",
                            "      <th>374</th>\n",
                            "      <td>Stratford High</td>\n",
                            "      <td>Goose Creek</td>\n",
                            "      <td>2021-08-30</td>\n",
                            "      <td>4</td>\n",
                            "      <td>46</td>\n",
                            "      <td>2021-08-30 04:13:50</td>\n",
                            "    </tr>\n",
                            "    <tr>\n",
                            "      <th>345</th>\n",
                            "      <td>Cane Bay Middle</td>\n",
                            "      <td>Summerville</td>\n",
                            "      <td>2021-08-30</td>\n",
                            "      <td>2</td>\n",
                            "      <td>34</td>\n",
                            "      <td>2021-08-30 04:13:50</td>\n",
                            "    </tr>\n",
                            "    <tr>\n",
                            "      <th>379</th>\n",
                            "      <td>Whitesville Elementary</td>\n",
                            "      <td>Moncks Corner</td>\n",
                            "      <td>2021-08-30</td>\n",
                            "      <td>3</td>\n",
                            "      <td>33</td>\n",
                            "      <td>2021-08-30 04:13:50</td>\n",
                            "    </tr>\n",
                            "  </tbody>\n",
                            "</table>\n",
                            "</div>"
                        ]
                    },
                    "metadata": {},
                    "execution_count": 5
                }
            ],
            "metadata": {}
        },
        {
            "cell_type": "markdown",
            "source": [
                "### By Staff Count"
            ],
            "metadata": {}
        },
        {
            "cell_type": "code",
            "execution_count": 6,
            "source": [
                "all_time_students = cleaned_df.sort_values(by=[\"Staff Count\",\"School\"], ascending=False).drop_duplicates([\"School\"], keep='first')\n",
                "all_time_students[all_time_students.School!='Berkeley County School District'].head()"
            ],
            "outputs": [
                {
                    "output_type": "execute_result",
                    "data": {
                        "text/plain": [
                            "                  School           Area       Date  Staff Count  \\\n",
                            "29         Cane Bay High    Summerville 2021-08-24            8   \n",
                            "228  Sangaree Elementary    Summerville 2021-08-26            6   \n",
                            "355   Hanahan Elementary        Hanahan 2021-08-30            6   \n",
                            "339    Bonner Elementary  Moncks Corner 2021-08-30            6   \n",
                            "216          Maintenance  Moncks Corner 2021-08-26            5   \n",
                            "\n",
                            "     Student Count            DateTime  \n",
                            "29              43 2021-08-24 08:59:02  \n",
                            "228             13 2021-08-26 04:29:05  \n",
                            "355             31 2021-08-30 04:13:50  \n",
                            "339             31 2021-08-30 04:13:50  \n",
                            "216              0 2021-08-26 04:29:05  "
                        ],
                        "text/html": [
                            "<div>\n",
                            "<style scoped>\n",
                            "    .dataframe tbody tr th:only-of-type {\n",
                            "        vertical-align: middle;\n",
                            "    }\n",
                            "\n",
                            "    .dataframe tbody tr th {\n",
                            "        vertical-align: top;\n",
                            "    }\n",
                            "\n",
                            "    .dataframe thead th {\n",
                            "        text-align: right;\n",
                            "    }\n",
                            "</style>\n",
                            "<table border=\"1\" class=\"dataframe\">\n",
                            "  <thead>\n",
                            "    <tr style=\"text-align: right;\">\n",
                            "      <th></th>\n",
                            "      <th>School</th>\n",
                            "      <th>Area</th>\n",
                            "      <th>Date</th>\n",
                            "      <th>Staff Count</th>\n",
                            "      <th>Student Count</th>\n",
                            "      <th>DateTime</th>\n",
                            "    </tr>\n",
                            "  </thead>\n",
                            "  <tbody>\n",
                            "    <tr>\n",
                            "      <th>29</th>\n",
                            "      <td>Cane Bay High</td>\n",
                            "      <td>Summerville</td>\n",
                            "      <td>2021-08-24</td>\n",
                            "      <td>8</td>\n",
                            "      <td>43</td>\n",
                            "      <td>2021-08-24 08:59:02</td>\n",
                            "    </tr>\n",
                            "    <tr>\n",
                            "      <th>228</th>\n",
                            "      <td>Sangaree Elementary</td>\n",
                            "      <td>Summerville</td>\n",
                            "      <td>2021-08-26</td>\n",
                            "      <td>6</td>\n",
                            "      <td>13</td>\n",
                            "      <td>2021-08-26 04:29:05</td>\n",
                            "    </tr>\n",
                            "    <tr>\n",
                            "      <th>355</th>\n",
                            "      <td>Hanahan Elementary</td>\n",
                            "      <td>Hanahan</td>\n",
                            "      <td>2021-08-30</td>\n",
                            "      <td>6</td>\n",
                            "      <td>31</td>\n",
                            "      <td>2021-08-30 04:13:50</td>\n",
                            "    </tr>\n",
                            "    <tr>\n",
                            "      <th>339</th>\n",
                            "      <td>Bonner Elementary</td>\n",
                            "      <td>Moncks Corner</td>\n",
                            "      <td>2021-08-30</td>\n",
                            "      <td>6</td>\n",
                            "      <td>31</td>\n",
                            "      <td>2021-08-30 04:13:50</td>\n",
                            "    </tr>\n",
                            "    <tr>\n",
                            "      <th>216</th>\n",
                            "      <td>Maintenance</td>\n",
                            "      <td>Moncks Corner</td>\n",
                            "      <td>2021-08-26</td>\n",
                            "      <td>5</td>\n",
                            "      <td>0</td>\n",
                            "      <td>2021-08-26 04:29:05</td>\n",
                            "    </tr>\n",
                            "  </tbody>\n",
                            "</table>\n",
                            "</div>"
                        ]
                    },
                    "metadata": {},
                    "execution_count": 6
                }
            ],
            "metadata": {}
        },
        {
            "cell_type": "markdown",
            "source": [
                "## Graphs"
            ],
            "metadata": {}
        },
        {
            "cell_type": "markdown",
            "source": [
                "### BCSD - 14 Day Cumulative reported daily"
            ],
            "metadata": {}
        },
        {
            "cell_type": "code",
            "execution_count": 7,
            "source": [
                "district = cleaned_df[cleaned_df.School=='Berkeley County School District']\n",
                "bcsd_ax = district.plot(\"Date\",[\"Student Count\", \"Staff Count\"], kind='area', ylabel='Count', title=\"14 Day Cumulative by Day for BCSD\")\n",
                "bcsd_ax.plot()"
            ],
            "outputs": [
                {
                    "output_type": "display_data",
                    "data": {
                        "text/plain": [
                            "Canvas(toolbar=Toolbar(toolitems=[('Home', 'Reset original view', 'home', 'home'), ('Back', 'Back to previous …"
                        ],
                        "application/vnd.jupyter.widget-view+json": {
                            "version_major": 2,
                            "version_minor": 0,
                            "model_id": "42e234a54f054fb3a7ab606fcc94021e"
                        }
                    },
                    "metadata": {}
                },
                {
                    "output_type": "execute_result",
                    "data": {
                        "text/plain": [
                            "[]"
                        ]
                    },
                    "metadata": {},
                    "execution_count": 7
                }
            ],
            "metadata": {}
        },
        {
            "cell_type": "markdown",
            "source": [
                "### Mount Holly Elementary"
            ],
            "metadata": {}
        },
        {
            "cell_type": "code",
            "execution_count": 8,
            "source": [
                "district = cleaned_df[cleaned_df.School=='Mount Holly Elementary']\n",
                "mhe_ax = district.plot(\"Date\",[\"Student Count\", \"Staff Count\"], kind='area', ylabel='Count', title=\"14 Day Cumulative by Day for Mount Holly Elementary\")\n",
                "mhe_ax.plot()"
            ],
            "outputs": [
                {
                    "output_type": "display_data",
                    "data": {
                        "text/plain": [
                            "Canvas(toolbar=Toolbar(toolitems=[('Home', 'Reset original view', 'home', 'home'), ('Back', 'Back to previous …"
                        ],
                        "application/vnd.jupyter.widget-view+json": {
                            "version_major": 2,
                            "version_minor": 0,
                            "model_id": "6f76470950cd47829eb2a1c556e579c7"
                        }
                    },
                    "metadata": {}
                },
                {
                    "output_type": "execute_result",
                    "data": {
                        "text/plain": [
                            "[]"
                        ]
                    },
                    "metadata": {},
                    "execution_count": 8
                }
            ],
            "metadata": {}
        },
        {
            "cell_type": "markdown",
            "source": [
                "### Bonner Elementary"
            ],
            "metadata": {}
        },
        {
            "cell_type": "code",
            "execution_count": 9,
            "source": [
                "district = cleaned_df[cleaned_df.School=='Bonner Elementary']\n",
                "bonn_ax = district.plot(\"Date\",[\"Student Count\", \"Staff Count\"], kind='area', ylabel='Count', title=\"14 Day Cumulative by Day for Bonner Elementary\")\n",
                "bonn_ax.plot()"
            ],
            "outputs": [
                {
                    "output_type": "display_data",
                    "data": {
                        "text/plain": [
                            "Canvas(toolbar=Toolbar(toolitems=[('Home', 'Reset original view', 'home', 'home'), ('Back', 'Back to previous …"
                        ],
                        "application/vnd.jupyter.widget-view+json": {
                            "version_major": 2,
                            "version_minor": 0,
                            "model_id": "c001ba0001b64e25adc2ac599ac6762f"
                        }
                    },
                    "metadata": {}
                },
                {
                    "output_type": "execute_result",
                    "data": {
                        "text/plain": [
                            "[]"
                        ]
                    },
                    "metadata": {},
                    "execution_count": 9
                }
            ],
            "metadata": {}
        },
        {
            "cell_type": "markdown",
            "source": [
                "### All Schools"
            ],
            "metadata": {}
        },
        {
            "cell_type": "code",
            "execution_count": 10,
            "source": [
                "school_list = cleaned_df.School.unique()\n",
                "target_school=\"Berkeley County School District\"\n",
                "\n",
                "#district = cleaned_df[cleaned_df.School==target_school]\n",
                "#all_ax = district.plot(\"Date\",[\"Student Count\", \"Staff Count\"], kind='area', ylabel='Count', title=f\"14 Day Cumulative by Day for {target_school}\")\n",
                "#all_ax = cleaned_df[cleaned_df.School == x].plot(\"Date\",[\"Student Count\", \"Staff Count\"], kind='area', ylabel='Count', title=f\"14 Day Cumulative by Day for {x}\")     \n",
                "\n",
                "def update(x):\n",
                "    selected_school = cleaned_df[cleaned_df.School == x]\n",
                "    selected_school.plot(\"Date\",[\"Student Count\", \"Staff Count\"], kind='area', ylabel='Count', title=f\"14 Day Cumulative by Day for {x}\")\n",
                "my_widgets.interact(update, x=list(school_list))\n"
            ],
            "outputs": [
                {
                    "output_type": "display_data",
                    "data": {
                        "text/plain": [
                            "interactive(children=(Dropdown(description='x', options=('Berkeley County School District', 'Mount Holly Eleme…"
                        ],
                        "application/vnd.jupyter.widget-view+json": {
                            "version_major": 2,
                            "version_minor": 0,
                            "model_id": "1b7fad59a263467abf23aa0af6d07ae6"
                        }
                    },
                    "metadata": {}
                },
                {
                    "output_type": "execute_result",
                    "data": {
                        "text/plain": [
                            "<function __main__.update(x)>"
                        ]
                    },
                    "metadata": {},
                    "execution_count": 10
                }
            ],
            "metadata": {}
        }
    ],
    "metadata": {
        "orig_nbformat": 4,
        "language_info": {
            "name": "python",
            "version": "3.8.8",
            "mimetype": "text/x-python",
            "codemirror_mode": {
                "name": "ipython",
                "version": 3
            },
            "pygments_lexer": "ipython3",
            "nbconvert_exporter": "python",
            "file_extension": ".py"
        },
        "kernelspec": {
            "name": "python3",
            "display_name": "Python 3.8.8 64-bit ('.venv': venv)"
        },
        "interpreter": {
            "hash": "3af1a351bc38b8dbaa85d892c47840bee599ebcf59404735617ce8e82a959bc4"
        }
    },
    "nbformat": 4,
    "nbformat_minor": 2
}