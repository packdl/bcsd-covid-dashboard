{
    "cells": [
        {
            "cell_type": "markdown",
            "source": [
                "# BCSD Infographic notebook\n",
                "This notebook provides various processing and infographics on COVID dashboard reporting for Berkeley County School District"
            ],
            "metadata": {}
        },
        {
            "cell_type": "markdown",
            "source": [
                "## Data imported and added to dataframe"
            ],
            "metadata": {}
        },
        {
            "cell_type": "code",
            "execution_count": 62,
            "source": [
                "import csv\n",
                "import pprint as pp\n",
                "from datetime import datetime, date, time\n",
                "\n",
                "import pandas as pd\n",
                "import numpy as np\n",
                "\n",
                "with open('./output/data.csv', 'r') as fp:\n",
                "    df = pd.read_csv(fp, parse_dates=['Date','DateTime'], infer_datetime_format=True)\n",
                "\n",
                "    # Drop any duplicate data entries\n",
                "    cleaned_df = df.drop_duplicates(['School','Date'], keep='last')"
            ],
            "outputs": [],
            "metadata": {}
        },
        {
            "cell_type": "markdown",
            "source": [
                "## List all schools and areas the district is tracking"
            ],
            "metadata": {}
        },
        {
            "cell_type": "code",
            "execution_count": 63,
            "source": [
                "print(f\"The school district is tracking {len(cleaned_df.School.unique())} schools, offices or departments.\")\n",
                "print(f\"Here is the full list.\")\n",
                "pp.pprint(list(cleaned_df.School.unique()), compact=True, width=120)"
            ],
            "outputs": [
                {
                    "output_type": "stream",
                    "name": "stdout",
                    "text": [
                        "The school district is tracking 79 schools, offices or departments.\n",
                        "Here is the full list.\n",
                        "['Berkeley County School District', 'Mount Holly Elementary', 'Academic Services', 'Administrative Services',\n",
                        " 'Adult Education - Hanahan', 'Adult Education - Moncks Corner', 'Berkeley Alternative', 'Berkeley Elementary',\n",
                        " 'Berkeley High School', 'Berkeley Intermediate', 'Berkeley Middle', 'Berkeley Middle College', 'Board of Education',\n",
                        " 'Bonner Elementary', 'Boulder Bluff Elementary', 'Bowens Corner Elementary', 'Cainhoy Elementary',\n",
                        " 'Cane Bay Elementary', 'Cane Bay High', 'Cane Bay Middle', 'Capital Improvements', 'Career Technical Ed', 'CDEP',\n",
                        " 'Child Nutrition', 'College Park Elementary', 'College Park Middle', 'Communications / Public Relations',\n",
                        " 'Cross Elementary', 'Cross High', 'Daniel Island School', 'Dist Office Transportation', 'Evaluation & Leadership',\n",
                        " 'Financial Services', 'First Steps', 'Foxbank Elementary', 'Goose Creek Elementary', 'Goose Creek High',\n",
                        " 'Hanahan Elementary', 'Hanahan High', 'Hanahan Middle', 'Head Start', 'Howe Hall Aims', 'Human Resources',\n",
                        " 'JK Goudin Elementary', 'Lowcountry Regional Stem', 'Macedonia Middle', 'Maintenance', 'Marrington Elementary',\n",
                        " 'Marrington Middle', 'Nexton Elementary', 'Office of Diversity', 'Operations / Administration',\n",
                        " 'Philip Simmons Elementary', 'Philip Simmons High', 'Philip Simmons Middle', 'Program Support', 'Safety and Security',\n",
                        " 'Sangaree Elementary', 'Sangaree Intermediate', 'Sangaree Middle', 'Sedgefield Middle', 'Special Needs Transportation',\n",
                        " 'Special Services', 'St. Stephen Elementary', 'St. Stephen Middle', 'Stratford High', 'Teacher Forum', 'Technology',\n",
                        " 'Timberland High', 'Transportation - Cainhoy', 'Transportation - Cross', 'Transportation - Goose Creek',\n",
                        " 'Transportation - Moncks Corner', 'Transportation - St. Stephen', 'Westview Elementary', 'Westview Middle',\n",
                        " 'Westview Primary', 'Whitesville Elementary', 'Devon Forest Elementary']\n"
                    ]
                }
            ],
            "metadata": {}
        },
        {
            "cell_type": "markdown",
            "source": [
                "## Top 5 Highest Schools Today"
            ],
            "metadata": {}
        },
        {
            "cell_type": "markdown",
            "source": [
                "###  By Student Count"
            ],
            "metadata": {}
        },
        {
            "cell_type": "code",
            "execution_count": 64,
            "source": [
                "cases_today = cleaned_df[cleaned_df.Date >= datetime.combine(date.today(),time())]\n",
                "highest_student_cnt = cases_today.sort_values(by=[\"Student Count\"], ascending=False)\n",
                "highest_student_cnt[highest_student_cnt.School!='Berkeley County School District'].head()"
            ],
            "outputs": [
                {
                    "output_type": "execute_result",
                    "data": {
                        "text/plain": [
                            "                   School           Area       Date  Staff Count  \\\n",
                            "187         Cane Bay High    Summerville 2021-08-26            7   \n",
                            "177  Berkeley High School  Moncks Corner 2021-08-26            0   \n",
                            "236        Stratford High    Goose Creek 2021-08-26            3   \n",
                            "182     Bonner Elementary  Moncks Corner 2021-08-26            5   \n",
                            "198  Daniel Island School     Charleston 2021-08-26            1   \n",
                            "\n",
                            "     Student Count            DateTime  \n",
                            "187             54 2021-08-26 04:29:05  \n",
                            "177             53 2021-08-26 04:29:05  \n",
                            "236             38 2021-08-26 04:29:05  \n",
                            "182             25 2021-08-26 04:29:05  \n",
                            "198             23 2021-08-26 04:29:05  "
                        ],
                        "text/html": [
                            "<div>\n",
                            "<style scoped>\n",
                            "    .dataframe tbody tr th:only-of-type {\n",
                            "        vertical-align: middle;\n",
                            "    }\n",
                            "\n",
                            "    .dataframe tbody tr th {\n",
                            "        vertical-align: top;\n",
                            "    }\n",
                            "\n",
                            "    .dataframe thead th {\n",
                            "        text-align: right;\n",
                            "    }\n",
                            "</style>\n",
                            "<table border=\"1\" class=\"dataframe\">\n",
                            "  <thead>\n",
                            "    <tr style=\"text-align: right;\">\n",
                            "      <th></th>\n",
                            "      <th>School</th>\n",
                            "      <th>Area</th>\n",
                            "      <th>Date</th>\n",
                            "      <th>Staff Count</th>\n",
                            "      <th>Student Count</th>\n",
                            "      <th>DateTime</th>\n",
                            "    </tr>\n",
                            "  </thead>\n",
                            "  <tbody>\n",
                            "    <tr>\n",
                            "      <th>187</th>\n",
                            "      <td>Cane Bay High</td>\n",
                            "      <td>Summerville</td>\n",
                            "      <td>2021-08-26</td>\n",
                            "      <td>7</td>\n",
                            "      <td>54</td>\n",
                            "      <td>2021-08-26 04:29:05</td>\n",
                            "    </tr>\n",
                            "    <tr>\n",
                            "      <th>177</th>\n",
                            "      <td>Berkeley High School</td>\n",
                            "      <td>Moncks Corner</td>\n",
                            "      <td>2021-08-26</td>\n",
                            "      <td>0</td>\n",
                            "      <td>53</td>\n",
                            "      <td>2021-08-26 04:29:05</td>\n",
                            "    </tr>\n",
                            "    <tr>\n",
                            "      <th>236</th>\n",
                            "      <td>Stratford High</td>\n",
                            "      <td>Goose Creek</td>\n",
                            "      <td>2021-08-26</td>\n",
                            "      <td>3</td>\n",
                            "      <td>38</td>\n",
                            "      <td>2021-08-26 04:29:05</td>\n",
                            "    </tr>\n",
                            "    <tr>\n",
                            "      <th>182</th>\n",
                            "      <td>Bonner Elementary</td>\n",
                            "      <td>Moncks Corner</td>\n",
                            "      <td>2021-08-26</td>\n",
                            "      <td>5</td>\n",
                            "      <td>25</td>\n",
                            "      <td>2021-08-26 04:29:05</td>\n",
                            "    </tr>\n",
                            "    <tr>\n",
                            "      <th>198</th>\n",
                            "      <td>Daniel Island School</td>\n",
                            "      <td>Charleston</td>\n",
                            "      <td>2021-08-26</td>\n",
                            "      <td>1</td>\n",
                            "      <td>23</td>\n",
                            "      <td>2021-08-26 04:29:05</td>\n",
                            "    </tr>\n",
                            "  </tbody>\n",
                            "</table>\n",
                            "</div>"
                        ]
                    },
                    "metadata": {},
                    "execution_count": 64
                }
            ],
            "metadata": {}
        },
        {
            "cell_type": "markdown",
            "source": [
                "### By Staff Count"
            ],
            "metadata": {}
        },
        {
            "cell_type": "code",
            "execution_count": 66,
            "source": [
                "highest_staff_cnt = cases_today.sort_values(by=[\"Staff Count\"], ascending=False)\n",
                "highest_staff_cnt[highest_staff_cnt.School!='Berkeley County School District'].head()"
            ],
            "outputs": [
                {
                    "output_type": "execute_result",
                    "data": {
                        "text/plain": [
                            "                  School           Area       Date  Staff Count  \\\n",
                            "187        Cane Bay High    Summerville 2021-08-26            7   \n",
                            "228  Sangaree Elementary    Summerville 2021-08-26            6   \n",
                            "216          Maintenance  Moncks Corner 2021-08-26            5   \n",
                            "182    Bonner Elementary  Moncks Corner 2021-08-26            5   \n",
                            "220    Nexton Elementary    Summerville 2021-08-26            4   \n",
                            "\n",
                            "     Student Count            DateTime  \n",
                            "187             54 2021-08-26 04:29:05  \n",
                            "228             13 2021-08-26 04:29:05  \n",
                            "216              0 2021-08-26 04:29:05  \n",
                            "182             25 2021-08-26 04:29:05  \n",
                            "220             23 2021-08-26 04:29:05  "
                        ],
                        "text/html": [
                            "<div>\n",
                            "<style scoped>\n",
                            "    .dataframe tbody tr th:only-of-type {\n",
                            "        vertical-align: middle;\n",
                            "    }\n",
                            "\n",
                            "    .dataframe tbody tr th {\n",
                            "        vertical-align: top;\n",
                            "    }\n",
                            "\n",
                            "    .dataframe thead th {\n",
                            "        text-align: right;\n",
                            "    }\n",
                            "</style>\n",
                            "<table border=\"1\" class=\"dataframe\">\n",
                            "  <thead>\n",
                            "    <tr style=\"text-align: right;\">\n",
                            "      <th></th>\n",
                            "      <th>School</th>\n",
                            "      <th>Area</th>\n",
                            "      <th>Date</th>\n",
                            "      <th>Staff Count</th>\n",
                            "      <th>Student Count</th>\n",
                            "      <th>DateTime</th>\n",
                            "    </tr>\n",
                            "  </thead>\n",
                            "  <tbody>\n",
                            "    <tr>\n",
                            "      <th>187</th>\n",
                            "      <td>Cane Bay High</td>\n",
                            "      <td>Summerville</td>\n",
                            "      <td>2021-08-26</td>\n",
                            "      <td>7</td>\n",
                            "      <td>54</td>\n",
                            "      <td>2021-08-26 04:29:05</td>\n",
                            "    </tr>\n",
                            "    <tr>\n",
                            "      <th>228</th>\n",
                            "      <td>Sangaree Elementary</td>\n",
                            "      <td>Summerville</td>\n",
                            "      <td>2021-08-26</td>\n",
                            "      <td>6</td>\n",
                            "      <td>13</td>\n",
                            "      <td>2021-08-26 04:29:05</td>\n",
                            "    </tr>\n",
                            "    <tr>\n",
                            "      <th>216</th>\n",
                            "      <td>Maintenance</td>\n",
                            "      <td>Moncks Corner</td>\n",
                            "      <td>2021-08-26</td>\n",
                            "      <td>5</td>\n",
                            "      <td>0</td>\n",
                            "      <td>2021-08-26 04:29:05</td>\n",
                            "    </tr>\n",
                            "    <tr>\n",
                            "      <th>182</th>\n",
                            "      <td>Bonner Elementary</td>\n",
                            "      <td>Moncks Corner</td>\n",
                            "      <td>2021-08-26</td>\n",
                            "      <td>5</td>\n",
                            "      <td>25</td>\n",
                            "      <td>2021-08-26 04:29:05</td>\n",
                            "    </tr>\n",
                            "    <tr>\n",
                            "      <th>220</th>\n",
                            "      <td>Nexton Elementary</td>\n",
                            "      <td>Summerville</td>\n",
                            "      <td>2021-08-26</td>\n",
                            "      <td>4</td>\n",
                            "      <td>23</td>\n",
                            "      <td>2021-08-26 04:29:05</td>\n",
                            "    </tr>\n",
                            "  </tbody>\n",
                            "</table>\n",
                            "</div>"
                        ]
                    },
                    "metadata": {},
                    "execution_count": 66
                }
            ],
            "metadata": {}
        },
        {
            "cell_type": "markdown",
            "source": [
                "## BCSD - 14 Day Cumulative tracked by Date"
            ],
            "metadata": {}
        },
        {
            "cell_type": "code",
            "execution_count": null,
            "source": [],
            "outputs": [],
            "metadata": {}
        }
    ],
    "metadata": {
        "orig_nbformat": 4,
        "language_info": {
            "name": "python",
            "version": "3.8.8",
            "mimetype": "text/x-python",
            "codemirror_mode": {
                "name": "ipython",
                "version": 3
            },
            "pygments_lexer": "ipython3",
            "nbconvert_exporter": "python",
            "file_extension": ".py"
        },
        "kernelspec": {
            "name": "python3",
            "display_name": "Python 3.8.8 64-bit ('.venv': venv)"
        },
        "interpreter": {
            "hash": "3af1a351bc38b8dbaa85d892c47840bee599ebcf59404735617ce8e82a959bc4"
        }
    },
    "nbformat": 4,
    "nbformat_minor": 2
}