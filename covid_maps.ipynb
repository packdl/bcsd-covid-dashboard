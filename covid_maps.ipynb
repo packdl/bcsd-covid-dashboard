{
    "cells": [
        {
            "cell_type": "markdown",
            "source": [
                "# BCSD Infographic notebook\n",
                "This notebook provides various processing and infographics on COVID dashboard reporting for Berkeley County School District"
            ],
            "metadata": {}
        },
        {
            "cell_type": "markdown",
            "source": [
                "## Data imported and added to dataframe"
            ],
            "metadata": {}
        },
        {
            "cell_type": "code",
            "execution_count": 108,
            "source": [
                "\n",
                "import csv\n",
                "import pprint as pp\n",
                "from datetime import datetime, date, time\n",
                "\n",
                "import pandas as pd\n",
                "import numpy as np\n",
                "%matplotlib widget\n",
                "import matplotlib\n",
                "import matplotlib.pyplot as plt\n",
                "import matplotlib.dates as mdates\n",
                "import ipywidgets as my_widgets\n",
                "\n",
                "with open('./output/data.csv', 'r') as fp:\n",
                "    df = pd.read_csv(fp, parse_dates=['Date','DateTime'], infer_datetime_format=True)\n",
                "\n",
                "    # Drop any duplicate data entries\n",
                "    cleaned_df = df.replace('Mt Holly Elementary', 'Mount Holly Elementary')\n",
                "    cleaned_df = cleaned_df.drop_duplicates(['School','Date'], keep='last')\n",
                "    "
            ],
            "outputs": [],
            "metadata": {}
        },
        {
            "cell_type": "markdown",
            "source": [
                "## List all schools and areas the district is tracking"
            ],
            "metadata": {}
        },
        {
            "cell_type": "code",
            "execution_count": 109,
            "source": [
                "print(f\"The school district is tracking {len(cleaned_df.School.unique())} schools, offices or departments.\")\n",
                "print(f\"Here is the full list.\")\n",
                "pp.pprint(list(cleaned_df.School.unique()), compact=True, width=120)"
            ],
            "outputs": [
                {
                    "output_type": "stream",
                    "name": "stdout",
                    "text": [
                        "The school district is tracking 84 schools, offices or departments.\n",
                        "Here is the full list.\n",
                        "['Berkeley County School District', 'Mount Holly Elementary', 'Academic Services', 'Administrative Services',\n",
                        " 'Adult Education - Hanahan', 'Adult Education - Moncks Corner', 'Berkeley Alternative', 'Berkeley Elementary',\n",
                        " 'Berkeley High School', 'Berkeley Intermediate', 'Berkeley Middle', 'Berkeley Middle College', 'Board of Education',\n",
                        " 'Bonner Elementary', 'Boulder Bluff Elementary', 'Bowens Corner Elementary', 'Cainhoy Elementary',\n",
                        " 'Cane Bay Elementary', 'Cane Bay High', 'Cane Bay Middle', 'Capital Improvements', 'Career Technical Ed', 'CDEP',\n",
                        " 'Child Nutrition', 'College Park Elementary', 'College Park Middle', 'Communications / Public Relations',\n",
                        " 'Cross Elementary', 'Cross High', 'Daniel Island School', 'Dist Office Transportation', 'Evaluation & Leadership',\n",
                        " 'Financial Services', 'First Steps', 'Foxbank Elementary', 'Goose Creek Elementary', 'Goose Creek High',\n",
                        " 'Hanahan Elementary', 'Hanahan High', 'Hanahan Middle', 'Head Start', 'Howe Hall Aims', 'Human Resources',\n",
                        " 'JK Goudin Elementary', 'Lowcountry Regional Stem', 'Macedonia Middle', 'Maintenance', 'Marrington Elementary',\n",
                        " 'Marrington Middle', 'Nexton Elementary', 'Office of Diversity', 'Operations / Administration',\n",
                        " 'Philip Simmons Elementary', 'Philip Simmons High', 'Philip Simmons Middle', 'Program Support', 'Safety and Security',\n",
                        " 'Sangaree Elementary', 'Sangaree Intermediate', 'Sangaree Middle', 'Sedgefield Middle', 'Special Needs Transportation',\n",
                        " 'Special Services', 'St. Stephen Elementary', 'St. Stephen Middle', 'Stratford High', 'Teacher Forum', 'Technology',\n",
                        " 'Timberland High', 'Transportation - Cainhoy', 'Transportation - Cross', 'Transportation - Goose Creek',\n",
                        " 'Transportation - Moncks Corner', 'Transportation - St. Stephen', 'Westview Elementary', 'Westview Middle',\n",
                        " 'Westview Primary', 'Whitesville Elementary', 'Devon Forest Elementary', 'Central Offices', 'Transportation',\n",
                        " 'Jk Goudin Elementary', 'St Stephen Elementary', 'St Stephen Middle']\n"
                    ]
                }
            ],
            "metadata": {}
        },
        {
            "cell_type": "markdown",
            "source": [
                "## Top 5 Highest Schools Today"
            ],
            "metadata": {}
        },
        {
            "cell_type": "markdown",
            "source": [
                "###  By Student Count"
            ],
            "metadata": {}
        },
        {
            "cell_type": "code",
            "execution_count": 110,
            "source": [
                "most_recent_date = cleaned_df.Date.max().date()\n",
                "if most_recent_date != date.today():\n",
                "    print(f\"Data is not available for today: {date.today()}\")\n",
                "    print(f\"Most recent date with data is {most_recent_date}\")\n",
                "cases_today = cleaned_df[cleaned_df.Date >= datetime.combine(most_recent_date,time())]\n",
                "highest_student_cnt = cases_today.sort_values(by=[\"Student Count\"], ascending=False)\n",
                "highest_student_cnt[highest_student_cnt.School!='Berkeley County School District'].head()"
            ],
            "outputs": [
                {
                    "output_type": "execute_result",
                    "data": {
                        "text/plain": [
                            "                   School           Area       Date  Staff Count  \\\n",
                            "493       Berkeley Middle  Moncks Corner 2021-09-02            5   \n",
                            "530        Stratford High    Goose Creek 2021-09-02            6   \n",
                            "500         Cane Bay High    Summerville 2021-09-02            4   \n",
                            "491  Berkeley High School  Moncks Corner 2021-09-02            2   \n",
                            "501       Cane Bay Middle    Summerville 2021-09-02            3   \n",
                            "\n",
                            "     Student Count            DateTime  \n",
                            "493            102 2021-09-02 03:50:34  \n",
                            "530             89 2021-09-02 03:50:34  \n",
                            "500             77 2021-09-02 03:50:34  \n",
                            "491             69 2021-09-02 03:50:34  \n",
                            "501             65 2021-09-02 03:50:34  "
                        ],
                        "text/html": [
                            "<div>\n",
                            "<style scoped>\n",
                            "    .dataframe tbody tr th:only-of-type {\n",
                            "        vertical-align: middle;\n",
                            "    }\n",
                            "\n",
                            "    .dataframe tbody tr th {\n",
                            "        vertical-align: top;\n",
                            "    }\n",
                            "\n",
                            "    .dataframe thead th {\n",
                            "        text-align: right;\n",
                            "    }\n",
                            "</style>\n",
                            "<table border=\"1\" class=\"dataframe\">\n",
                            "  <thead>\n",
                            "    <tr style=\"text-align: right;\">\n",
                            "      <th></th>\n",
                            "      <th>School</th>\n",
                            "      <th>Area</th>\n",
                            "      <th>Date</th>\n",
                            "      <th>Staff Count</th>\n",
                            "      <th>Student Count</th>\n",
                            "      <th>DateTime</th>\n",
                            "    </tr>\n",
                            "  </thead>\n",
                            "  <tbody>\n",
                            "    <tr>\n",
                            "      <th>493</th>\n",
                            "      <td>Berkeley Middle</td>\n",
                            "      <td>Moncks Corner</td>\n",
                            "      <td>2021-09-02</td>\n",
                            "      <td>5</td>\n",
                            "      <td>102</td>\n",
                            "      <td>2021-09-02 03:50:34</td>\n",
                            "    </tr>\n",
                            "    <tr>\n",
                            "      <th>530</th>\n",
                            "      <td>Stratford High</td>\n",
                            "      <td>Goose Creek</td>\n",
                            "      <td>2021-09-02</td>\n",
                            "      <td>6</td>\n",
                            "      <td>89</td>\n",
                            "      <td>2021-09-02 03:50:34</td>\n",
                            "    </tr>\n",
                            "    <tr>\n",
                            "      <th>500</th>\n",
                            "      <td>Cane Bay High</td>\n",
                            "      <td>Summerville</td>\n",
                            "      <td>2021-09-02</td>\n",
                            "      <td>4</td>\n",
                            "      <td>77</td>\n",
                            "      <td>2021-09-02 03:50:34</td>\n",
                            "    </tr>\n",
                            "    <tr>\n",
                            "      <th>491</th>\n",
                            "      <td>Berkeley High School</td>\n",
                            "      <td>Moncks Corner</td>\n",
                            "      <td>2021-09-02</td>\n",
                            "      <td>2</td>\n",
                            "      <td>69</td>\n",
                            "      <td>2021-09-02 03:50:34</td>\n",
                            "    </tr>\n",
                            "    <tr>\n",
                            "      <th>501</th>\n",
                            "      <td>Cane Bay Middle</td>\n",
                            "      <td>Summerville</td>\n",
                            "      <td>2021-09-02</td>\n",
                            "      <td>3</td>\n",
                            "      <td>65</td>\n",
                            "      <td>2021-09-02 03:50:34</td>\n",
                            "    </tr>\n",
                            "  </tbody>\n",
                            "</table>\n",
                            "</div>"
                        ]
                    },
                    "metadata": {},
                    "execution_count": 110
                }
            ],
            "metadata": {}
        },
        {
            "cell_type": "markdown",
            "source": [
                "### By Staff Count"
            ],
            "metadata": {}
        },
        {
            "cell_type": "code",
            "execution_count": 111,
            "source": [
                "highest_staff_cnt = cases_today.sort_values(by=[\"Staff Count\"], ascending=False)\n",
                "highest_staff_cnt[highest_staff_cnt.School!='Berkeley County School District'].head()"
            ],
            "outputs": [
                {
                    "output_type": "execute_result",
                    "data": {
                        "text/plain": [
                            "                     School           Area       Date  Staff Count  \\\n",
                            "524     Sangaree Elementary    Summerville 2021-09-02            9   \n",
                            "490     Berkeley Elementary  Moncks Corner 2021-09-02            8   \n",
                            "495       Bonner Elementary  Moncks Corner 2021-09-02            7   \n",
                            "530          Stratford High    Goose Creek 2021-09-02            6   \n",
                            "519  Mount Holly Elementary    Goose Creek 2021-09-02            6   \n",
                            "\n",
                            "     Student Count            DateTime  \n",
                            "524             45 2021-09-02 03:50:34  \n",
                            "490             32 2021-09-02 03:50:34  \n",
                            "495             38 2021-09-02 03:50:34  \n",
                            "530             89 2021-09-02 03:50:34  \n",
                            "519             41 2021-09-02 03:50:34  "
                        ],
                        "text/html": [
                            "<div>\n",
                            "<style scoped>\n",
                            "    .dataframe tbody tr th:only-of-type {\n",
                            "        vertical-align: middle;\n",
                            "    }\n",
                            "\n",
                            "    .dataframe tbody tr th {\n",
                            "        vertical-align: top;\n",
                            "    }\n",
                            "\n",
                            "    .dataframe thead th {\n",
                            "        text-align: right;\n",
                            "    }\n",
                            "</style>\n",
                            "<table border=\"1\" class=\"dataframe\">\n",
                            "  <thead>\n",
                            "    <tr style=\"text-align: right;\">\n",
                            "      <th></th>\n",
                            "      <th>School</th>\n",
                            "      <th>Area</th>\n",
                            "      <th>Date</th>\n",
                            "      <th>Staff Count</th>\n",
                            "      <th>Student Count</th>\n",
                            "      <th>DateTime</th>\n",
                            "    </tr>\n",
                            "  </thead>\n",
                            "  <tbody>\n",
                            "    <tr>\n",
                            "      <th>524</th>\n",
                            "      <td>Sangaree Elementary</td>\n",
                            "      <td>Summerville</td>\n",
                            "      <td>2021-09-02</td>\n",
                            "      <td>9</td>\n",
                            "      <td>45</td>\n",
                            "      <td>2021-09-02 03:50:34</td>\n",
                            "    </tr>\n",
                            "    <tr>\n",
                            "      <th>490</th>\n",
                            "      <td>Berkeley Elementary</td>\n",
                            "      <td>Moncks Corner</td>\n",
                            "      <td>2021-09-02</td>\n",
                            "      <td>8</td>\n",
                            "      <td>32</td>\n",
                            "      <td>2021-09-02 03:50:34</td>\n",
                            "    </tr>\n",
                            "    <tr>\n",
                            "      <th>495</th>\n",
                            "      <td>Bonner Elementary</td>\n",
                            "      <td>Moncks Corner</td>\n",
                            "      <td>2021-09-02</td>\n",
                            "      <td>7</td>\n",
                            "      <td>38</td>\n",
                            "      <td>2021-09-02 03:50:34</td>\n",
                            "    </tr>\n",
                            "    <tr>\n",
                            "      <th>530</th>\n",
                            "      <td>Stratford High</td>\n",
                            "      <td>Goose Creek</td>\n",
                            "      <td>2021-09-02</td>\n",
                            "      <td>6</td>\n",
                            "      <td>89</td>\n",
                            "      <td>2021-09-02 03:50:34</td>\n",
                            "    </tr>\n",
                            "    <tr>\n",
                            "      <th>519</th>\n",
                            "      <td>Mount Holly Elementary</td>\n",
                            "      <td>Goose Creek</td>\n",
                            "      <td>2021-09-02</td>\n",
                            "      <td>6</td>\n",
                            "      <td>41</td>\n",
                            "      <td>2021-09-02 03:50:34</td>\n",
                            "    </tr>\n",
                            "  </tbody>\n",
                            "</table>\n",
                            "</div>"
                        ]
                    },
                    "metadata": {},
                    "execution_count": 111
                }
            ],
            "metadata": {}
        },
        {
            "cell_type": "markdown",
            "source": [
                "## Top 5 Highest Schools All Time"
            ],
            "metadata": {}
        },
        {
            "cell_type": "markdown",
            "source": [
                "###  By Student Count"
            ],
            "metadata": {}
        },
        {
            "cell_type": "code",
            "execution_count": 112,
            "source": [
                "all_time_students = cleaned_df.sort_values(by=[\"Student Count\",\"School\"], ascending=False).drop_duplicates([\"School\"], keep='first')\n",
                "all_time_students[all_time_students.School!='Berkeley County School District'].head()"
            ],
            "outputs": [
                {
                    "output_type": "execute_result",
                    "data": {
                        "text/plain": [
                            "                   School           Area       Date  Staff Count  \\\n",
                            "493       Berkeley Middle  Moncks Corner 2021-09-02            5   \n",
                            "530        Stratford High    Goose Creek 2021-09-02            6   \n",
                            "439  Berkeley High School  Moncks Corner 2021-09-01            2   \n",
                            "500         Cane Bay High    Summerville 2021-09-02            4   \n",
                            "449       Cane Bay Middle    Summerville 2021-09-01            3   \n",
                            "\n",
                            "     Student Count            DateTime  \n",
                            "493            102 2021-09-02 03:50:34  \n",
                            "530             89 2021-09-02 03:50:34  \n",
                            "439             78 2021-09-01 03:27:59  \n",
                            "500             77 2021-09-02 03:50:34  \n",
                            "449             66 2021-09-01 03:27:59  "
                        ],
                        "text/html": [
                            "<div>\n",
                            "<style scoped>\n",
                            "    .dataframe tbody tr th:only-of-type {\n",
                            "        vertical-align: middle;\n",
                            "    }\n",
                            "\n",
                            "    .dataframe tbody tr th {\n",
                            "        vertical-align: top;\n",
                            "    }\n",
                            "\n",
                            "    .dataframe thead th {\n",
                            "        text-align: right;\n",
                            "    }\n",
                            "</style>\n",
                            "<table border=\"1\" class=\"dataframe\">\n",
                            "  <thead>\n",
                            "    <tr style=\"text-align: right;\">\n",
                            "      <th></th>\n",
                            "      <th>School</th>\n",
                            "      <th>Area</th>\n",
                            "      <th>Date</th>\n",
                            "      <th>Staff Count</th>\n",
                            "      <th>Student Count</th>\n",
                            "      <th>DateTime</th>\n",
                            "    </tr>\n",
                            "  </thead>\n",
                            "  <tbody>\n",
                            "    <tr>\n",
                            "      <th>493</th>\n",
                            "      <td>Berkeley Middle</td>\n",
                            "      <td>Moncks Corner</td>\n",
                            "      <td>2021-09-02</td>\n",
                            "      <td>5</td>\n",
                            "      <td>102</td>\n",
                            "      <td>2021-09-02 03:50:34</td>\n",
                            "    </tr>\n",
                            "    <tr>\n",
                            "      <th>530</th>\n",
                            "      <td>Stratford High</td>\n",
                            "      <td>Goose Creek</td>\n",
                            "      <td>2021-09-02</td>\n",
                            "      <td>6</td>\n",
                            "      <td>89</td>\n",
                            "      <td>2021-09-02 03:50:34</td>\n",
                            "    </tr>\n",
                            "    <tr>\n",
                            "      <th>439</th>\n",
                            "      <td>Berkeley High School</td>\n",
                            "      <td>Moncks Corner</td>\n",
                            "      <td>2021-09-01</td>\n",
                            "      <td>2</td>\n",
                            "      <td>78</td>\n",
                            "      <td>2021-09-01 03:27:59</td>\n",
                            "    </tr>\n",
                            "    <tr>\n",
                            "      <th>500</th>\n",
                            "      <td>Cane Bay High</td>\n",
                            "      <td>Summerville</td>\n",
                            "      <td>2021-09-02</td>\n",
                            "      <td>4</td>\n",
                            "      <td>77</td>\n",
                            "      <td>2021-09-02 03:50:34</td>\n",
                            "    </tr>\n",
                            "    <tr>\n",
                            "      <th>449</th>\n",
                            "      <td>Cane Bay Middle</td>\n",
                            "      <td>Summerville</td>\n",
                            "      <td>2021-09-01</td>\n",
                            "      <td>3</td>\n",
                            "      <td>66</td>\n",
                            "      <td>2021-09-01 03:27:59</td>\n",
                            "    </tr>\n",
                            "  </tbody>\n",
                            "</table>\n",
                            "</div>"
                        ]
                    },
                    "metadata": {},
                    "execution_count": 112
                }
            ],
            "metadata": {}
        },
        {
            "cell_type": "markdown",
            "source": [
                "### By Staff Count"
            ],
            "metadata": {}
        },
        {
            "cell_type": "code",
            "execution_count": 113,
            "source": [
                "all_time_students = cleaned_df.sort_values(by=[\"Staff Count\",\"School\"], ascending=False).drop_duplicates([\"School\"], keep='first')\n",
                "all_time_students[all_time_students.School!='Berkeley County School District'].head()"
            ],
            "outputs": [
                {
                    "output_type": "execute_result",
                    "data": {
                        "text/plain": [
                            "                  School           Area       Date  Staff Count  \\\n",
                            "472  Sangaree Elementary    Summerville 2021-09-01            9   \n",
                            "29         Cane Bay High    Summerville 2021-08-24            8   \n",
                            "490  Berkeley Elementary  Moncks Corner 2021-09-02            8   \n",
                            "391    Bonner Elementary  Moncks Corner 2021-08-31            7   \n",
                            "530       Stratford High    Goose Creek 2021-09-02            6   \n",
                            "\n",
                            "     Student Count            DateTime  \n",
                            "472             38 2021-09-01 03:27:59  \n",
                            "29              43 2021-08-24 08:59:02  \n",
                            "490             32 2021-09-02 03:50:34  \n",
                            "391             35 2021-08-31 06:03:52  \n",
                            "530             89 2021-09-02 03:50:34  "
                        ],
                        "text/html": [
                            "<div>\n",
                            "<style scoped>\n",
                            "    .dataframe tbody tr th:only-of-type {\n",
                            "        vertical-align: middle;\n",
                            "    }\n",
                            "\n",
                            "    .dataframe tbody tr th {\n",
                            "        vertical-align: top;\n",
                            "    }\n",
                            "\n",
                            "    .dataframe thead th {\n",
                            "        text-align: right;\n",
                            "    }\n",
                            "</style>\n",
                            "<table border=\"1\" class=\"dataframe\">\n",
                            "  <thead>\n",
                            "    <tr style=\"text-align: right;\">\n",
                            "      <th></th>\n",
                            "      <th>School</th>\n",
                            "      <th>Area</th>\n",
                            "      <th>Date</th>\n",
                            "      <th>Staff Count</th>\n",
                            "      <th>Student Count</th>\n",
                            "      <th>DateTime</th>\n",
                            "    </tr>\n",
                            "  </thead>\n",
                            "  <tbody>\n",
                            "    <tr>\n",
                            "      <th>472</th>\n",
                            "      <td>Sangaree Elementary</td>\n",
                            "      <td>Summerville</td>\n",
                            "      <td>2021-09-01</td>\n",
                            "      <td>9</td>\n",
                            "      <td>38</td>\n",
                            "      <td>2021-09-01 03:27:59</td>\n",
                            "    </tr>\n",
                            "    <tr>\n",
                            "      <th>29</th>\n",
                            "      <td>Cane Bay High</td>\n",
                            "      <td>Summerville</td>\n",
                            "      <td>2021-08-24</td>\n",
                            "      <td>8</td>\n",
                            "      <td>43</td>\n",
                            "      <td>2021-08-24 08:59:02</td>\n",
                            "    </tr>\n",
                            "    <tr>\n",
                            "      <th>490</th>\n",
                            "      <td>Berkeley Elementary</td>\n",
                            "      <td>Moncks Corner</td>\n",
                            "      <td>2021-09-02</td>\n",
                            "      <td>8</td>\n",
                            "      <td>32</td>\n",
                            "      <td>2021-09-02 03:50:34</td>\n",
                            "    </tr>\n",
                            "    <tr>\n",
                            "      <th>391</th>\n",
                            "      <td>Bonner Elementary</td>\n",
                            "      <td>Moncks Corner</td>\n",
                            "      <td>2021-08-31</td>\n",
                            "      <td>7</td>\n",
                            "      <td>35</td>\n",
                            "      <td>2021-08-31 06:03:52</td>\n",
                            "    </tr>\n",
                            "    <tr>\n",
                            "      <th>530</th>\n",
                            "      <td>Stratford High</td>\n",
                            "      <td>Goose Creek</td>\n",
                            "      <td>2021-09-02</td>\n",
                            "      <td>6</td>\n",
                            "      <td>89</td>\n",
                            "      <td>2021-09-02 03:50:34</td>\n",
                            "    </tr>\n",
                            "  </tbody>\n",
                            "</table>\n",
                            "</div>"
                        ]
                    },
                    "metadata": {},
                    "execution_count": 113
                }
            ],
            "metadata": {}
        },
        {
            "cell_type": "markdown",
            "source": [
                "## Graphs"
            ],
            "metadata": {}
        },
        {
            "cell_type": "markdown",
            "source": [
                "### BCSD - 14 Day Cumulative reported daily"
            ],
            "metadata": {}
        },
        {
            "cell_type": "code",
            "execution_count": 114,
            "source": [
                "district = cleaned_df[cleaned_df.School=='Berkeley County School District']\n",
                "\n",
                "current_district_cnts = district[district.Date.apply(datetime.date) == most_recent_date].tail(1)\n",
                "curr_district_staff_cnt = current_district_cnts[\"Staff Count\"].iat[0]\n",
                "curr_district_student_cnt = current_district_cnts[\"Student Count\"].iat[0]\n",
                "\n",
                "previous_date = district[district.Date.apply(datetime.date) != most_recent_date].Date.max()\n",
                "\n",
                "previous_day_district = district[district.Date == previous_date]\n",
                "previous_district_staff_cnt = previous_day_district[\"Staff Count\"].iat[0]\n",
                "previous_district_student_cnt = previous_day_district[\"Student Count\"].iat[0]\n",
                "\n",
                "print(f\"On {most_recent_date} Student Count: {curr_district_student_cnt}. Staff Count: {curr_district_staff_cnt}\")\n",
                "print(f\"On {previous_date.date()} Student Count: {previous_district_student_cnt}. Staff Count: {previous_district_staff_cnt}\")\n",
                "print(f\"Difference between {most_recent_date} and {previous_date.date()}. Student Count: {curr_district_student_cnt-previous_district_student_cnt}. Staff Count: {curr_district_staff_cnt-previous_district_staff_cnt}\")\n",
                "    \n",
                "bcsd_ax = district.plot(\"Date\",[\"Student Count\", \"Staff Count\"], kind='area', ylabel='Count', title=\"14 Day Cumulative by Day for BCSD\")\n",
                "bcsd_ax.plot()"
            ],
            "outputs": [
                {
                    "output_type": "stream",
                    "name": "stdout",
                    "text": [
                        "On 2021-09-02 Student Count: 1456. Staff Count: 121\n",
                        "On 2021-09-01 Student Count: 1336. Staff Count: 108\n",
                        "Difference between 2021-09-02 and 2021-09-01. Student Count: 120. Staff Count: 13\n",
                        "108 1336\n"
                    ]
                },
                {
                    "output_type": "display_data",
                    "data": {
                        "text/plain": [
                            "Canvas(toolbar=Toolbar(toolitems=[('Home', 'Reset original view', 'home', 'home'), ('Back', 'Back to previous …"
                        ],
                        "application/vnd.jupyter.widget-view+json": {
                            "version_major": 2,
                            "version_minor": 0,
                            "model_id": "8de5b236a37345369ba744795e0c3397"
                        }
                    },
                    "metadata": {}
                },
                {
                    "output_type": "execute_result",
                    "data": {
                        "text/plain": [
                            "[]"
                        ]
                    },
                    "metadata": {},
                    "execution_count": 114
                }
            ],
            "metadata": {}
        },
        {
            "cell_type": "markdown",
            "source": [
                "### Mount Holly Elementary"
            ],
            "metadata": {}
        },
        {
            "cell_type": "code",
            "execution_count": 115,
            "source": [
                "district = cleaned_df[cleaned_df.School=='Mount Holly Elementary']\n",
                "mhe_ax = district.plot(\"Date\",[\"Student Count\", \"Staff Count\"], kind='area', ylabel='Count', title=\"14 Day Cumulative by Day for Mount Holly Elementary\")\n",
                "mhe_ax.plot()"
            ],
            "outputs": [
                {
                    "output_type": "display_data",
                    "data": {
                        "text/plain": [
                            "Canvas(toolbar=Toolbar(toolitems=[('Home', 'Reset original view', 'home', 'home'), ('Back', 'Back to previous …"
                        ],
                        "application/vnd.jupyter.widget-view+json": {
                            "version_major": 2,
                            "version_minor": 0,
                            "model_id": "cc4df0910c724378aa8398387459c567"
                        }
                    },
                    "metadata": {}
                },
                {
                    "output_type": "execute_result",
                    "data": {
                        "text/plain": [
                            "[]"
                        ]
                    },
                    "metadata": {},
                    "execution_count": 115
                }
            ],
            "metadata": {}
        },
        {
            "cell_type": "markdown",
            "source": [
                "### Bonner Elementary"
            ],
            "metadata": {}
        },
        {
            "cell_type": "code",
            "execution_count": 116,
            "source": [
                "district = cleaned_df[cleaned_df.School=='Bonner Elementary']\n",
                "bonn_ax = district.plot(\"Date\",[\"Student Count\", \"Staff Count\"], kind='area', ylabel='Count', title=\"14 Day Cumulative by Day for Bonner Elementary\")\n",
                "bonn_ax.plot()"
            ],
            "outputs": [
                {
                    "output_type": "display_data",
                    "data": {
                        "text/plain": [
                            "Canvas(toolbar=Toolbar(toolitems=[('Home', 'Reset original view', 'home', 'home'), ('Back', 'Back to previous …"
                        ],
                        "application/vnd.jupyter.widget-view+json": {
                            "version_major": 2,
                            "version_minor": 0,
                            "model_id": "c03bcb56f55b4087be3fb8189e704484"
                        }
                    },
                    "metadata": {}
                },
                {
                    "output_type": "execute_result",
                    "data": {
                        "text/plain": [
                            "[]"
                        ]
                    },
                    "metadata": {},
                    "execution_count": 116
                }
            ],
            "metadata": {}
        },
        {
            "cell_type": "markdown",
            "source": [
                "### All Schools"
            ],
            "metadata": {}
        },
        {
            "cell_type": "code",
            "execution_count": 117,
            "source": [
                "school_list = cleaned_df.School.unique()\n",
                "target_school=\"Berkeley County School District\"\n",
                "\n",
                "#district = cleaned_df[cleaned_df.School==target_school]\n",
                "#all_ax = district.plot(\"Date\",[\"Student Count\", \"Staff Count\"], kind='area', ylabel='Count', title=f\"14 Day Cumulative by Day for {target_school}\")\n",
                "#all_ax = cleaned_df[cleaned_df.School == x].plot(\"Date\",[\"Student Count\", \"Staff Count\"], kind='area', ylabel='Count', title=f\"14 Day Cumulative by Day for {x}\")     \n",
                "\n",
                "def update(x):\n",
                "    selected_school = cleaned_df[cleaned_df.School == x]\n",
                "    selected_school.plot(\"Date\",[\"Student Count\", \"Staff Count\"], kind='area', ylabel='Count', title=f\"14 Day Cumulative by Day for {x}\")\n",
                "my_widgets.interact(update, x=list(school_list))\n"
            ],
            "outputs": [
                {
                    "output_type": "display_data",
                    "data": {
                        "text/plain": [
                            "interactive(children=(Dropdown(description='x', options=('Berkeley County School District', 'Mount Holly Eleme…"
                        ],
                        "application/vnd.jupyter.widget-view+json": {
                            "version_major": 2,
                            "version_minor": 0,
                            "model_id": "c9bb0fdaa0e94c45ae285f83a050a76a"
                        }
                    },
                    "metadata": {}
                },
                {
                    "output_type": "execute_result",
                    "data": {
                        "text/plain": [
                            "<function __main__.update(x)>"
                        ]
                    },
                    "metadata": {},
                    "execution_count": 117
                }
            ],
            "metadata": {}
        }
    ],
    "metadata": {
        "orig_nbformat": 4,
        "language_info": {
            "name": "python",
            "version": "3.8.8",
            "mimetype": "text/x-python",
            "codemirror_mode": {
                "name": "ipython",
                "version": 3
            },
            "pygments_lexer": "ipython3",
            "nbconvert_exporter": "python",
            "file_extension": ".py"
        },
        "kernelspec": {
            "name": "python3",
            "display_name": "Python 3.8.8 64-bit ('.venv': venv)"
        },
        "interpreter": {
            "hash": "3af1a351bc38b8dbaa85d892c47840bee599ebcf59404735617ce8e82a959bc4"
        }
    },
    "nbformat": 4,
    "nbformat_minor": 2
}